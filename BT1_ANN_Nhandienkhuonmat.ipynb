{
  "nbformat": 4,
  "nbformat_minor": 0,
  "metadata": {
    "colab": {
      "name": "BT1_ANN_Nhandienkhuonmat.ipynb",
      "provenance": [],
      "authorship_tag": "ABX9TyPA5fR9LCq+fjMshvBmyKjf",
      "include_colab_link": true
    },
    "kernelspec": {
      "name": "python3",
      "display_name": "Python 3"
    },
    "language_info": {
      "name": "python"
    }
  },
  "cells": [
    {
      "cell_type": "markdown",
      "metadata": {
        "id": "view-in-github",
        "colab_type": "text"
      },
      "source": [
        "<a href=\"https://colab.research.google.com/github/QuangLe102/AI/blob/main/BT1_ANN_Nhandienkhuonmat.ipynb\" target=\"_parent\"><img src=\"https://colab.research.google.com/assets/colab-badge.svg\" alt=\"Open In Colab\"/></a>"
      ]
    },
    {
      "cell_type": "code",
      "execution_count": null,
      "metadata": {
        "id": "97tuWhHwPBRW"
      },
      "outputs": [],
      "source": [
        "#import thư\n",
        "\n",
        "from sklearn.utils import shuffle\n",
        "\n",
        "import math as m\n",
        "\n",
        "import cv2\n",
        "import pickle\n",
        "import sklearn\n",
        "import numpy as np\n",
        "import pandas as pd\n",
        "import tensorflow as tf\n",
        "from tensorflow import keras\n",
        "import matplotlib.pyplot as plt\n",
        "from keras.utils import np_utils\n",
        "from keras.datasets import cifar10\n",
        "from keras.models import Sequential\n",
        "from sklearn.preprocessing import scale\n",
        "from keras.datasets import fashion_mnist\n",
        "from sklearn.preprocessing import StandardScaler\n",
        "from tensorflow.keras import datasets, layers, models\n",
        "from tensorflow.keras.optimizers import Adam, RMSprop\n",
        "from keras.layers import Dense, Activation, Dropout,Flatten\n",
        "from tensorflow.keras.utils import to_categorical \n"
      ]
    }
  ]
}