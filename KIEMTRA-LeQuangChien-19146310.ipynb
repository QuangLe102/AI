{
  "nbformat": 4,
  "nbformat_minor": 0,
  "metadata": {
    "colab": {
      "name": "KIEMTRA.ipynb",
      "provenance": [],
      "authorship_tag": "ABX9TyMBath9knNbSLhaUgtF/GiQ",
      "include_colab_link": true
    },
    "kernelspec": {
      "name": "python3",
      "display_name": "Python 3"
    },
    "language_info": {
      "name": "python"
    }
  },
  "cells": [
    {
      "cell_type": "markdown",
      "metadata": {
        "id": "view-in-github",
        "colab_type": "text"
      },
      "source": [
        "<a href=\"https://colab.research.google.com/github/QuangLe102/AI/blob/main/KIEMTRA-LeQuangChien-19146310.ipynb\" target=\"_parent\"><img src=\"https://colab.research.google.com/assets/colab-badge.svg\" alt=\"Open In Colab\"/></a>"
      ]
    },
    {
      "cell_type": "markdown",
      "source": [
        "# Thư viện\n"
      ],
      "metadata": {
        "id": "J90hT6DJgtl2"
      }
    },
    {
      "cell_type": "code",
      "source": [
        "import cv2\n",
        "import sklearn\n",
        "import numpy as np\n",
        "import pandas as pd\n",
        "import pickle\n",
        "import tensorflow as tf\n",
        "from tensorflow import keras\n",
        "import matplotlib.pyplot as plt\n",
        "from keras.utils import np_utils\n",
        "from keras.models import Sequential\n",
        "from sklearn.preprocessing import scale\n",
        "from sklearn.preprocessing import StandardScaler\n",
        "from tensorflow.keras import datasets, layers, models\n",
        "from tensorflow.keras.optimizers import Adam, RMSprop\n",
        "from keras.layers import Dense, Activation, Dropout,Flatten, Conv2D,MaxPooling2D\n",
        "from tensorflow.keras.utils import to_categorical \n",
        "from tensorflow.keras.optimizers import Adam, RMSprop,SGD"
      ],
      "metadata": {
        "id": "CSOMcZQzgwAw"
      },
      "execution_count": 2,
      "outputs": []
    },
    {
      "cell_type": "markdown",
      "source": [
        "# Load và xử lý data\n"
      ],
      "metadata": {
        "id": "a9eymh6hg2mT"
      }
    },
    {
      "cell_type": "code",
      "source": [
        "with open('Nhandiencamxuc_CNN.pickle', 'rb') as f:\n",
        "  (x_train, y_train), (x_test, y_test) = pickle.load(f)"
      ],
      "metadata": {
        "id": "Qv1rCShFg7Wp"
      },
      "execution_count": 3,
      "outputs": []
    },
    {
      "cell_type": "code",
      "source": [
        "x_train = x_train.astype('float32')\n",
        "x_test = x_test.astype('float32')\n",
        "x_train /= 255\n",
        "x_test /= 255\n",
        "y_train = to_categorical(y_train, 4)\n",
        "y_test = to_categorical(y_test, 4)"
      ],
      "metadata": {
        "id": "30lUdI5tm1NR"
      },
      "execution_count": 5,
      "outputs": []
    },
    {
      "cell_type": "markdown",
      "source": [
        "# Tạo model"
      ],
      "metadata": {
        "id": "Dge-vemplz8L"
      }
    },
    {
      "cell_type": "code",
      "source": [
        "model = Sequential()\n",
        "model.add(Conv2D(32,(3,3), activation = 'relu', kernel_initializer = 'he_uniform', padding = 'same', input_shape = (150, 150, 3)))\n",
        "model.add(Conv2D(32,(3,3), activation = 'relu', kernel_initializer = 'he_uniform', padding = 'same'))\n",
        "model.add(MaxPooling2D((2, 2)))\n",
        "model.add(Conv2D(64,(3,3), activation = 'relu', kernel_initializer = 'he_uniform', padding = 'same'))\n",
        "model.add(Conv2D(64,(3,3), activation = 'relu', kernel_initializer = 'he_uniform', padding = 'same'))\n",
        "model.add(MaxPooling2D((2, 2)))\n",
        "model.add(Conv2D(128,(3,3), activation = 'relu', kernel_initializer = 'he_uniform', padding = 'same'))\n",
        "model.add(Conv2D(128,(3,3), activation = 'relu', kernel_initializer = 'he_uniform', padding = 'same'))\n",
        "model.add(MaxPooling2D((2, 2)))\n",
        "\n",
        "#ANN\n",
        "model.add(Flatten())\n",
        "model.add(Dense(64, activation = 'relu', kernel_initializer= 'he_uniform'))\n",
        "model.add(Dense(128, activation = 'relu', kernel_initializer= 'he_uniform'))\n",
        "model.add(Dense(4, activation= 'softmax'))\n",
        "model.summary()"
      ],
      "metadata": {
        "colab": {
          "base_uri": "https://localhost:8080/"
        },
        "id": "ZhLC-4k0l8_-",
        "outputId": "cec60952-a599-4c46-9342-0e3dfe470dd9"
      },
      "execution_count": 6,
      "outputs": [
        {
          "output_type": "stream",
          "name": "stdout",
          "text": [
            "Model: \"sequential\"\n",
            "_________________________________________________________________\n",
            " Layer (type)                Output Shape              Param #   \n",
            "=================================================================\n",
            " conv2d (Conv2D)             (None, 150, 150, 32)      896       \n",
            "                                                                 \n",
            " conv2d_1 (Conv2D)           (None, 150, 150, 32)      9248      \n",
            "                                                                 \n",
            " max_pooling2d (MaxPooling2D  (None, 75, 75, 32)       0         \n",
            " )                                                               \n",
            "                                                                 \n",
            " conv2d_2 (Conv2D)           (None, 75, 75, 64)        18496     \n",
            "                                                                 \n",
            " conv2d_3 (Conv2D)           (None, 75, 75, 64)        36928     \n",
            "                                                                 \n",
            " max_pooling2d_1 (MaxPooling  (None, 37, 37, 64)       0         \n",
            " 2D)                                                             \n",
            "                                                                 \n",
            " conv2d_4 (Conv2D)           (None, 37, 37, 128)       73856     \n",
            "                                                                 \n",
            " conv2d_5 (Conv2D)           (None, 37, 37, 128)       147584    \n",
            "                                                                 \n",
            " max_pooling2d_2 (MaxPooling  (None, 18, 18, 128)      0         \n",
            " 2D)                                                             \n",
            "                                                                 \n",
            " flatten (Flatten)           (None, 41472)             0         \n",
            "                                                                 \n",
            " dense (Dense)               (None, 64)                2654272   \n",
            "                                                                 \n",
            " dense_1 (Dense)             (None, 128)               8320      \n",
            "                                                                 \n",
            " dense_2 (Dense)             (None, 4)                 516       \n",
            "                                                                 \n",
            "=================================================================\n",
            "Total params: 2,950,116\n",
            "Trainable params: 2,950,116\n",
            "Non-trainable params: 0\n",
            "_________________________________________________________________\n"
          ]
        }
      ]
    },
    {
      "cell_type": "markdown",
      "source": [
        "# Compile và train"
      ],
      "metadata": {
        "id": "mrOHvDfKl9yu"
      }
    },
    {
      "cell_type": "code",
      "source": [
        "opt = SGD(lr = 0.01, momentum = 0.9)\n",
        "model.compile(optimizer = opt, loss = 'categorical_crossentropy', metrics = ['accuracy'])\n",
        "history = model.fit(x_train, y_train, epochs = 20, batch_size=64, validation_data = (x_test, y_test), verbose = 1)"
      ],
      "metadata": {
        "colab": {
          "base_uri": "https://localhost:8080/"
        },
        "id": "lz246lJYmCcg",
        "outputId": "4be9b470-fe27-48c1-958d-046f7cfe81c7"
      },
      "execution_count": 8,
      "outputs": [
        {
          "output_type": "stream",
          "name": "stdout",
          "text": [
            "Epoch 1/20\n"
          ]
        },
        {
          "output_type": "stream",
          "name": "stderr",
          "text": [
            "/usr/local/lib/python3.7/dist-packages/keras/optimizer_v2/gradient_descent.py:102: UserWarning: The `lr` argument is deprecated, use `learning_rate` instead.\n",
            "  super(SGD, self).__init__(name, **kwargs)\n"
          ]
        },
        {
          "output_type": "stream",
          "name": "stdout",
          "text": [
            "1/1 [==============================] - 6s 6s/step - loss: 1.3854 - accuracy: 0.3889 - val_loss: 1.3866 - val_accuracy: 0.1250\n",
            "Epoch 2/20\n",
            "1/1 [==============================] - 5s 5s/step - loss: 1.3854 - accuracy: 0.3333 - val_loss: 1.3868 - val_accuracy: 0.1250\n",
            "Epoch 3/20\n",
            "1/1 [==============================] - 5s 5s/step - loss: 1.3853 - accuracy: 0.3889 - val_loss: 1.3869 - val_accuracy: 0.1250\n",
            "Epoch 4/20\n",
            "1/1 [==============================] - 6s 6s/step - loss: 1.3853 - accuracy: 0.3889 - val_loss: 1.3870 - val_accuracy: 0.1250\n",
            "Epoch 5/20\n",
            "1/1 [==============================] - 6s 6s/step - loss: 1.3852 - accuracy: 0.3611 - val_loss: 1.3870 - val_accuracy: 0.1250\n",
            "Epoch 6/20\n",
            "1/1 [==============================] - 5s 5s/step - loss: 1.3851 - accuracy: 0.3333 - val_loss: 1.3871 - val_accuracy: 0.1250\n",
            "Epoch 7/20\n",
            "1/1 [==============================] - 5s 5s/step - loss: 1.3851 - accuracy: 0.3333 - val_loss: 1.3871 - val_accuracy: 0.2500\n",
            "Epoch 8/20\n",
            "1/1 [==============================] - 5s 5s/step - loss: 1.3850 - accuracy: 0.3056 - val_loss: 1.3871 - val_accuracy: 0.2500\n",
            "Epoch 9/20\n",
            "1/1 [==============================] - 5s 5s/step - loss: 1.3849 - accuracy: 0.2778 - val_loss: 1.3869 - val_accuracy: 0.2500\n",
            "Epoch 10/20\n",
            "1/1 [==============================] - 7s 7s/step - loss: 1.3849 - accuracy: 0.2500 - val_loss: 1.3870 - val_accuracy: 0.2500\n",
            "Epoch 11/20\n",
            "1/1 [==============================] - 10s 10s/step - loss: 1.3848 - accuracy: 0.2500 - val_loss: 1.3870 - val_accuracy: 0.2500\n",
            "Epoch 12/20\n",
            "1/1 [==============================] - 8s 8s/step - loss: 1.3847 - accuracy: 0.2500 - val_loss: 1.3871 - val_accuracy: 0.2500\n",
            "Epoch 13/20\n",
            "1/1 [==============================] - 7s 7s/step - loss: 1.3847 - accuracy: 0.2500 - val_loss: 1.3871 - val_accuracy: 0.2500\n",
            "Epoch 14/20\n",
            "1/1 [==============================] - 7s 7s/step - loss: 1.3845 - accuracy: 0.2500 - val_loss: 1.3870 - val_accuracy: 0.2500\n",
            "Epoch 15/20\n",
            "1/1 [==============================] - 5s 5s/step - loss: 1.3843 - accuracy: 0.2500 - val_loss: 1.3873 - val_accuracy: 0.2500\n",
            "Epoch 16/20\n",
            "1/1 [==============================] - 6s 6s/step - loss: 1.3841 - accuracy: 0.2500 - val_loss: 1.3875 - val_accuracy: 0.2500\n",
            "Epoch 17/20\n",
            "1/1 [==============================] - 5s 5s/step - loss: 1.3840 - accuracy: 0.2500 - val_loss: 1.3876 - val_accuracy: 0.2500\n",
            "Epoch 18/20\n",
            "1/1 [==============================] - 5s 5s/step - loss: 1.3839 - accuracy: 0.3056 - val_loss: 1.3878 - val_accuracy: 0.2500\n",
            "Epoch 19/20\n",
            "1/1 [==============================] - 5s 5s/step - loss: 1.3836 - accuracy: 0.3056 - val_loss: 1.3879 - val_accuracy: 0.1250\n",
            "Epoch 20/20\n",
            "1/1 [==============================] - 5s 5s/step - loss: 1.3835 - accuracy: 0.3333 - val_loss: 1.3882 - val_accuracy: 0.1250\n"
          ]
        }
      ]
    },
    {
      "cell_type": "code",
      "source": [
        "score = model.evaluate(x_test, y_test)\n",
        "print('Test score:', score[0])\n",
        "print('Test accuracy:', score[1])"
      ],
      "metadata": {
        "id": "MJt3w2rKnpjA"
      },
      "execution_count": null,
      "outputs": []
    },
    {
      "cell_type": "markdown",
      "source": [
        "# Vẽ đồ thị"
      ],
      "metadata": {
        "id": "-CoT1G3RmC9M"
      }
    },
    {
      "cell_type": "code",
      "source": [
        "pd.DataFrame(history.history).plot(figsize=(8,5))\n",
        "plt.grid(True)\n",
        "plt.gca().set_ylim(0,1)\n",
        "plt.show()"
      ],
      "metadata": {
        "id": "-swEeH_TmIDC"
      },
      "execution_count": null,
      "outputs": []
    },
    {
      "cell_type": "markdown",
      "source": [
        "# Kiểm tra"
      ],
      "metadata": {
        "id": "RfkIKVKkmIei"
      }
    },
    {
      "cell_type": "code",
      "source": [
        "test = 10\n",
        "plt.imshow(cv2.cvtColor(x_pre[test], cv2.COLOR_BGR2RGB))\n",
        "print(x_pre[test].shape)\n",
        "img = x_pre[test].reshape(1,150,150,3)\n",
        "img = img.astype('float32')\n",
        "img /= 255\n",
        "pred = np.argmax(model.predict(img), axis = 1)\n",
        "print(pred)\n",
        "Label = ['Đây là Phước', 'Đây là Chiến', 'Đây là Đức']\n",
        "Label[pred[0]]"
      ],
      "metadata": {
        "id": "xLaIX-n4mVmc"
      },
      "execution_count": null,
      "outputs": []
    },
    {
      "cell_type": "code",
      "source": [
        "#Link: https://drive.google.com/drive/folders/1ydgXSt7wIOe_moy97Mmqvb_bbA1tZukk?usp=sharing"
      ],
      "metadata": {
        "id": "dZ0imZX3sNI3"
      },
      "execution_count": null,
      "outputs": []
    }
  ]
}