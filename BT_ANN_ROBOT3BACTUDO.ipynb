{
  "nbformat": 4,
  "nbformat_minor": 0,
  "metadata": {
    "colab": {
      "name": "BT_ANN_ROBOT3BACTUDO.ipynb",
      "provenance": [],
      "authorship_tag": "ABX9TyNdh6sM5NdSNEWvuI9AYkYm",
      "include_colab_link": true
    },
    "kernelspec": {
      "name": "python3",
      "display_name": "Python 3"
    },
    "language_info": {
      "name": "python"
    }
  },
  "cells": [
    {
      "cell_type": "markdown",
      "metadata": {
        "id": "view-in-github",
        "colab_type": "text"
      },
      "source": [
        "<a href=\"https://colab.research.google.com/github/QuangLe102/AI/blob/main/BT_ANN_ROBOT3BACTUDO.ipynb\" target=\"_parent\"><img src=\"https://colab.research.google.com/assets/colab-badge.svg\" alt=\"Open In Colab\"/></a>"
      ]
    },
    {
      "cell_type": "code",
      "execution_count": 1,
      "metadata": {
        "id": "D6KmDxx_KApt"
      },
      "outputs": [],
      "source": [
        "#import thư viện\n",
        "\n",
        "from sklearn.utils import shuffle\n",
        "import cv2\n",
        "import pickle\n",
        "import sklearn\n",
        "import numpy as np\n",
        "import pandas as pd\n",
        "import tensorflow as tf\n",
        "from tensorflow import keras\n",
        "import matplotlib.pyplot as plt\n",
        "from keras.utils import np_utils\n",
        "from keras.datasets import cifar10\n",
        "from keras.models import Sequential\n",
        "from sklearn.preprocessing import scale\n",
        "from sklearn.preprocessing import StandardScaler\n",
        "from tensorflow.keras import datasets, layers, models\n",
        "from tensorflow.keras.optimizers import Adam, RMSprop\n",
        "from keras.layers import Dense, Activation, Dropout,Flatten\n",
        "from tensorflow.keras.utils import to_categorical \n",
        "from sklearn.linear_model import Perceptron\n",
        "from sklearn.model_selection import train_test_split\n",
        "from sklearn.metrics import accuracy_score\n",
        "import math\n",
        "import csv"
      ]
    },
    {
      "cell_type": "code",
      "source": [
        "l1 = 50\n",
        "l2 = 40 \n",
        "l3 = 20\n",
        "z=[]\n",
        "for t1 in range(0,180,1):\n",
        "  for t2 in range(0,180,1):\n",
        "    t3 = 90 - t1 - t2\n",
        "    x=l1*math.cos(math.radians(t1))+l2*math.cos(math.radians(t1+t2))+l3*math.cos(math.radians(t1+t2+t3))\n",
        "    y=l1*math.sin(math.radians(t1))+l2*math.sin(math.radians(t1+t2))+l3*math.sin(math.radians(t1+t2+t3))\n",
        "    \n",
        "    t1 = t1/180\n",
        "    t2 = t2/180\n",
        "    t3 = (t3+180.0)/270.0\n",
        "    x = (x+110)/220\n",
        "    y = (y+110)/220\n",
        "    z.append(np.array((t1,t2,t3,x,y)))\n",
        "\n",
        "label = ['theta1', 'theta2','theta3', 'x', 'y']\n",
        "with open('data3btd.csv', 'w', encoding='UTF8', newline='') as f:\n",
        "    writer = csv.writer(f)\n",
        "    writer.writerow(label)\n",
        "    writer.writerows(z)"
      ],
      "metadata": {
        "id": "1F8i_mYpKMTS"
      },
      "execution_count": 6,
      "outputs": []
    },
    {
      "cell_type": "code",
      "source": [
        "data = pd.read_csv('data3btd.csv')\n",
        "numpy_dataset = data.values\n",
        "y=numpy_dataset[:,:3]\n",
        "x=numpy_dataset[:,3:]\n",
        "x_train,x_test,y_train,y_test = train_test_split(x,y,test_size=0.2)\n",
        "x_train.shape"
      ],
      "metadata": {
        "colab": {
          "base_uri": "https://localhost:8080/"
        },
        "id": "XFQsyb6IMg8M",
        "outputId": "73c4df29-3b97-484a-cf71-1090d66fbebf"
      },
      "execution_count": 8,
      "outputs": [
        {
          "output_type": "execute_result",
          "data": {
            "text/plain": [
              "(25920, 2)"
            ]
          },
          "metadata": {},
          "execution_count": 8
        }
      ]
    },
    {
      "cell_type": "code",
      "source": [
        "model = Sequential() \n",
        "model.add(Dense(128, activation='relu', input_shape = (2,))) \n",
        "model.add(Dense(64, activation='relu'))\n",
        "model.add(Dense(64, activation='relu'))\n",
        "model.add(Dense(32, activation='relu'))\n",
        "model.add(Dense(3))\n",
        "\n",
        "model.compile(loss='mse', optimizer =Adam(), metrics=['accuracy'])\n",
        "history = model.fit(x_train, y_train, batch_size = 32, epochs = 10, validation_split = 0.2)"
      ],
      "metadata": {
        "colab": {
          "base_uri": "https://localhost:8080/"
        },
        "id": "l3kqi-KFNCPZ",
        "outputId": "81b9a9a7-bdc6-45c5-9ab5-430405cd0e6d"
      },
      "execution_count": 9,
      "outputs": [
        {
          "output_type": "stream",
          "name": "stdout",
          "text": [
            "Epoch 1/10\n",
            "648/648 [==============================] - 2s 3ms/step - loss: 0.0107 - accuracy: 0.9197 - val_loss: 1.7772e-04 - val_accuracy: 0.9873\n",
            "Epoch 2/10\n",
            "648/648 [==============================] - 2s 3ms/step - loss: 1.4423e-04 - accuracy: 0.9918 - val_loss: 8.9413e-05 - val_accuracy: 0.9996\n",
            "Epoch 3/10\n",
            "648/648 [==============================] - 1s 2ms/step - loss: 1.2240e-04 - accuracy: 0.9935 - val_loss: 9.6551e-05 - val_accuracy: 0.9873\n",
            "Epoch 4/10\n",
            "648/648 [==============================] - 2s 2ms/step - loss: 9.1545e-05 - accuracy: 0.9927 - val_loss: 4.3004e-05 - val_accuracy: 0.9956\n",
            "Epoch 5/10\n",
            "648/648 [==============================] - 2s 3ms/step - loss: 8.5732e-05 - accuracy: 0.9928 - val_loss: 6.1597e-05 - val_accuracy: 0.9904\n",
            "Epoch 6/10\n",
            "648/648 [==============================] - 1s 2ms/step - loss: 7.2206e-05 - accuracy: 0.9922 - val_loss: 5.8651e-05 - val_accuracy: 0.9902\n",
            "Epoch 7/10\n",
            "648/648 [==============================] - 2s 2ms/step - loss: 6.0037e-05 - accuracy: 0.9928 - val_loss: 1.9391e-05 - val_accuracy: 0.9956\n",
            "Epoch 8/10\n",
            "648/648 [==============================] - 1s 2ms/step - loss: 5.6686e-05 - accuracy: 0.9937 - val_loss: 3.3145e-05 - val_accuracy: 0.9994\n",
            "Epoch 9/10\n",
            "648/648 [==============================] - 2s 2ms/step - loss: 4.2232e-05 - accuracy: 0.9934 - val_loss: 1.5043e-05 - val_accuracy: 0.9952\n",
            "Epoch 10/10\n",
            "648/648 [==============================] - 2s 2ms/step - loss: 3.7799e-05 - accuracy: 0.9944 - val_loss: 1.6090e-05 - val_accuracy: 0.9954\n"
          ]
        }
      ]
    },
    {
      "cell_type": "code",
      "source": [
        "pd.DataFrame(history.history).plot(figsize=(8,5))\n",
        "plt.grid(True)\n",
        "plt.gca().set_ylim(0,1)\n",
        "plt.show()"
      ],
      "metadata": {
        "colab": {
          "base_uri": "https://localhost:8080/",
          "height": 324
        },
        "id": "p8QrjC6VNYeB",
        "outputId": "22f68593-6845-4ac5-b7af-710c80ed93ff"
      },
      "execution_count": 10,
      "outputs": [
        {
          "output_type": "display_data",
          "data": {
            "text/plain": [
              "<Figure size 576x360 with 1 Axes>"
            ],
            "image/png": "[encoded data removed]"
          },
          "metadata": {
            "needs_background": "light"
          }
        }
      ]
    },
    {
      "cell_type": "code",
      "source": [
        "plt.plot(history.history['accuracy'])\n",
        "plt.plot(history.history['val_accuracy'])\n",
        "plt.title('model accuracy')\n",
        "plt.ylabel('accuracy')\n",
        "plt.xlabel('epoch')\n",
        "plt.legend(['train', 'validation'])\n",
        "plt.show()"
      ],
      "metadata": {
        "colab": {
          "base_uri": "https://localhost:8080/",
          "height": 295
        },
        "id": "HjPRDpLlNdgb",
        "outputId": "54c70068-669a-4156-ee6d-0a26b7dc0adc"
      },
      "execution_count": 11,
      "outputs": [
        {
          "output_type": "display_data",
          "data": {
            "text/plain": [
              "<Figure size 432x288 with 1 Axes>"
            ],
            "image/png": "[encoded data removed]"
          },
          "metadata": {
            "needs_background": "light"
          }
        }
      ]
    },
    {
      "cell_type": "code",
      "source": [
        "Px_test_train = 60\n",
        "Py_test_train = 30\n",
        "print(Px_test_train,Py_test_train)\n",
        "ktra = model.predict([[Px_test_train,Py_test_train]])\n",
        "t1 = ktra[0][0]\n",
        "t2 = ktra[0][1]\n",
        "t3 = ktra[0][2]\n",
        "X=l1*math.cos(math.radians(t1))+l2*math.cos(math.radians(t1+t2))+l3*math.cos(math.radians(t1+t2+t3))\n",
        "Y=l1*math.sin(math.radians(t1))+l2*math.sin(math.radians(t1+t2))+l3*math.sin(math.radians(t1+t2+t3))\n",
        "print('x = ',X,'\\ny = ',Y)\n",
        "print('Góc Theta 1 = ', t1,'\\nGóc Theta 2 = ', t2, '\\nGóc Theta 3 = ', t3)"
      ],
      "metadata": {
        "colab": {
          "base_uri": "https://localhost:8080/"
        },
        "id": "fhFdldYZNg60",
        "outputId": "021b1d64-0a9d-47f2-b2f2-38b4e278e774"
      },
      "execution_count": 12,
      "outputs": [
        {
          "output_type": "stream",
          "name": "stdout",
          "text": [
            "60 30\n",
            "x =  91.07259046825521 \n",
            "y =  -12.724897389730476\n",
            "Góc Theta 1 =  6.6362877 \n",
            "Góc Theta 2 =  -56.862503 \n",
            "Góc Theta 3 =  87.9599\n"
          ]
        }
      ]
    }
  ]
}