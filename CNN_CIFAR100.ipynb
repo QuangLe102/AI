{
  "nbformat": 4,
  "nbformat_minor": 0,
  "metadata": {
    "colab": {
      "name": "CNN_CIFAR100.ipynb",
      "provenance": [],
      "toc_visible": true,
      "authorship_tag": "ABX9TyORCfTptIrj5BGHiq3y4dxX",
      "include_colab_link": true
    },
    "kernelspec": {
      "name": "python3",
      "display_name": "Python 3"
    },
    "language_info": {
      "name": "python"
    }
  },
  "cells": [
    {
      "cell_type": "markdown",
      "metadata": {
        "id": "view-in-github",
        "colab_type": "text"
      },
      "source": [
        "<a href=\"https://colab.research.google.com/github/QuangLe102/AI/blob/main/CNN_CIFAR100.ipynb\" target=\"_parent\"><img src=\"https://colab.research.google.com/assets/colab-badge.svg\" alt=\"Open In Colab\"/></a>"
      ]
    },
    {
      "cell_type": "markdown",
      "source": [
        "# Import thư viện"
      ],
      "metadata": {
        "id": "CMzDhsdcM8Rg"
      }
    },
    {
      "cell_type": "code",
      "source": [
        "import cv2\n",
        "import sklearn\n",
        "import numpy as np\n",
        "import pandas as pd\n",
        "import tensorflow as tf\n",
        "from tensorflow import keras\n",
        "import matplotlib.pyplot as plt\n",
        "from keras.utils import np_utils\n",
        "from keras.datasets import cifar100\n",
        "from keras.models import Sequential\n",
        "from sklearn.preprocessing import scale\n",
        "from sklearn.preprocessing import StandardScaler\n",
        "from tensorflow.keras import datasets, layers, models\n",
        "from tensorflow.keras.optimizers import Adam, RMSprop\n",
        "from keras.layers import Dense, Activation, Dropout,Flatten, Conv2D,MaxPooling2D\n",
        "from tensorflow.keras.utils import to_categorical \n",
        "from tensorflow.keras.optimizers import Adam, RMSprop,SGD"
      ],
      "metadata": {
        "id": "5n0p345sNAXV"
      },
      "execution_count": 1,
      "outputs": []
    },
    {
      "cell_type": "markdown",
      "source": [
        "# Load và xử lý data"
      ],
      "metadata": {
        "id": "qmqCrsvJNEn2"
      }
    },
    {
      "cell_type": "code",
      "source": [
        "(x_train, y_train), (x_test, y_test) = cifar100.load_data()\n",
        "x_pre = x_test\n",
        "x_train = x_train.astype('float32')\n",
        "x_test = x_test.astype('float32')\n",
        "x_train /= 255\n",
        "x_test /= 255\n",
        "y_train = np_utils.to_categorical(y_train,100)\n",
        "y_test = np_utils.to_categorical(y_test,100)"
      ],
      "metadata": {
        "id": "bwqJV5dhNIUV"
      },
      "execution_count": 3,
      "outputs": []
    },
    {
      "cell_type": "markdown",
      "source": [
        "# Tạo model"
      ],
      "metadata": {
        "id": "B9HvTv0cNTGV"
      }
    },
    {
      "cell_type": "code",
      "source": [
        "model = Sequential()\n",
        "model.add(Conv2D(32,(3,3),activation = 'relu', kernel_initializer='he_uniform',padding='same',input_shape=(32,32,3)))\n",
        "model.add(MaxPooling2D(2,2))\n",
        "model.add(Conv2D(64,(3,3),activation = 'relu', kernel_initializer='he_uniform',padding='same'))\n",
        "model.add(MaxPooling2D(2,2))\n",
        "model.add(Conv2D(128,(3,3),activation = 'relu', kernel_initializer='he_uniform',padding='same'))\n",
        "model.add(MaxPooling2D(2,2))\n",
        "model.add(Flatten())\n",
        "\n",
        "#ANN\n",
        "model.add(Dense(64,activation='relu',kernel_initializer='he_uniform'))\n",
        "model.add(Dense(128,activation='relu',kernel_initializer='he_uniform'))\n",
        "model.add(Dense(100,activation='softmax'))\n",
        "model.summary()"
      ],
      "metadata": {
        "colab": {
          "base_uri": "https://localhost:8080/"
        },
        "id": "6sxzRHPKNVud",
        "outputId": "983ccfe2-80b1-407b-b3db-d127a282c2f4"
      },
      "execution_count": 4,
      "outputs": [
        {
          "output_type": "stream",
          "name": "stdout",
          "text": [
            "Model: \"sequential\"\n",
            "_________________________________________________________________\n",
            " Layer (type)                Output Shape              Param #   \n",
            "=================================================================\n",
            " conv2d (Conv2D)             (None, 32, 32, 32)        896       \n",
            "                                                                 \n",
            " max_pooling2d (MaxPooling2D  (None, 16, 16, 32)       0         \n",
            " )                                                               \n",
            "                                                                 \n",
            " conv2d_1 (Conv2D)           (None, 16, 16, 64)        18496     \n",
            "                                                                 \n",
            " max_pooling2d_1 (MaxPooling  (None, 8, 8, 64)         0         \n",
            " 2D)                                                             \n",
            "                                                                 \n",
            " conv2d_2 (Conv2D)           (None, 8, 8, 128)         73856     \n",
            "                                                                 \n",
            " max_pooling2d_2 (MaxPooling  (None, 4, 4, 128)        0         \n",
            " 2D)                                                             \n",
            "                                                                 \n",
            " flatten (Flatten)           (None, 2048)              0         \n",
            "                                                                 \n",
            " dense (Dense)               (None, 64)                131136    \n",
            "                                                                 \n",
            " dense_1 (Dense)             (None, 128)               8320      \n",
            "                                                                 \n",
            " dense_2 (Dense)             (None, 100)               12900     \n",
            "                                                                 \n",
            "=================================================================\n",
            "Total params: 245,604\n",
            "Trainable params: 245,604\n",
            "Non-trainable params: 0\n",
            "_________________________________________________________________\n"
          ]
        }
      ]
    },
    {
      "cell_type": "markdown",
      "source": [
        "# Compile và train"
      ],
      "metadata": {
        "id": "jSu6Uea-NgvQ"
      }
    },
    {
      "cell_type": "code",
      "source": [
        "opt= SGD(lr=0.01,momentum = 0.9)\n",
        "model.compile(optimizer=opt, loss='categorical_crossentropy', metrics=['accuracy'])\n",
        "history = model.fit(x_train,y_train,epochs= 50,batch_size=64,validation_data=(x_test,y_test),verbose=1)"
      ],
      "metadata": {
        "colab": {
          "base_uri": "https://localhost:8080/"
        },
        "id": "JKicVShhNnnH",
        "outputId": "6eea7bd5-1df6-4a43-e687-4cefcddee756"
      },
      "execution_count": 5,
      "outputs": [
        {
          "metadata": {
            "tags": null
          },
          "name": "stderr",
          "output_type": "stream",
          "text": [
            "/usr/local/lib/python3.7/dist-packages/keras/optimizer_v2/gradient_descent.py:102: UserWarning: The `lr` argument is deprecated, use `learning_rate` instead.\n",
            "  super(SGD, self).__init__(name, **kwargs)\n"
          ]
        },
        {
          "output_type": "stream",
          "name": "stdout",
          "text": [
            "Epoch 1/50\n",
            "782/782 [==============================] - 120s 153ms/step - loss: 4.4870 - accuracy: 0.0212 - val_loss: 4.3581 - val_accuracy: 0.0321\n",
            "Epoch 2/50\n",
            "782/782 [==============================] - 105s 134ms/step - loss: 3.9160 - accuracy: 0.0909 - val_loss: 3.6213 - val_accuracy: 0.1368\n",
            "Epoch 3/50\n",
            "782/782 [==============================] - 102s 131ms/step - loss: 3.3611 - accuracy: 0.1812 - val_loss: 3.2150 - val_accuracy: 0.2122\n",
            "Epoch 4/50\n",
            "782/782 [==============================] - 102s 130ms/step - loss: 3.0490 - accuracy: 0.2346 - val_loss: 3.0039 - val_accuracy: 0.2507\n",
            "Epoch 5/50\n",
            "782/782 [==============================] - 101s 129ms/step - loss: 2.8196 - accuracy: 0.2837 - val_loss: 2.8728 - val_accuracy: 0.2703\n",
            "Epoch 6/50\n",
            "782/782 [==============================] - 101s 129ms/step - loss: 2.6240 - accuracy: 0.3218 - val_loss: 2.7818 - val_accuracy: 0.3005\n",
            "Epoch 7/50\n",
            "782/782 [==============================] - 101s 129ms/step - loss: 2.4720 - accuracy: 0.3551 - val_loss: 2.6003 - val_accuracy: 0.3394\n",
            "Epoch 8/50\n",
            "782/782 [==============================] - 101s 129ms/step - loss: 2.3196 - accuracy: 0.3833 - val_loss: 2.5616 - val_accuracy: 0.3431\n",
            "Epoch 9/50\n",
            "782/782 [==============================] - 101s 129ms/step - loss: 2.1881 - accuracy: 0.4114 - val_loss: 2.5758 - val_accuracy: 0.3539\n",
            "Epoch 10/50\n",
            "782/782 [==============================] - 101s 129ms/step - loss: 2.0807 - accuracy: 0.4392 - val_loss: 2.5282 - val_accuracy: 0.3592\n",
            "Epoch 11/50\n",
            "782/782 [==============================] - 101s 129ms/step - loss: 1.9862 - accuracy: 0.4591 - val_loss: 2.5044 - val_accuracy: 0.3765\n",
            "Epoch 12/50\n",
            "782/782 [==============================] - 101s 129ms/step - loss: 1.8955 - accuracy: 0.4793 - val_loss: 2.5356 - val_accuracy: 0.3752\n",
            "Epoch 13/50\n",
            "782/782 [==============================] - 101s 129ms/step - loss: 1.8023 - accuracy: 0.5001 - val_loss: 2.5774 - val_accuracy: 0.3719\n",
            "Epoch 14/50\n",
            "782/782 [==============================] - 101s 129ms/step - loss: 1.7153 - accuracy: 0.5226 - val_loss: 2.6273 - val_accuracy: 0.3671\n",
            "Epoch 15/50\n",
            "782/782 [==============================] - 101s 129ms/step - loss: 1.6446 - accuracy: 0.5382 - val_loss: 2.6971 - val_accuracy: 0.3701\n",
            "Epoch 16/50\n",
            "782/782 [==============================] - 101s 129ms/step - loss: 1.5676 - accuracy: 0.5562 - val_loss: 2.7993 - val_accuracy: 0.3459\n",
            "Epoch 17/50\n",
            "782/782 [==============================] - 101s 129ms/step - loss: 1.5177 - accuracy: 0.5693 - val_loss: 2.7535 - val_accuracy: 0.3679\n",
            "Epoch 18/50\n",
            "782/782 [==============================] - 101s 129ms/step - loss: 1.4409 - accuracy: 0.5870 - val_loss: 2.7586 - val_accuracy: 0.3681\n",
            "Epoch 19/50\n",
            "782/782 [==============================] - 101s 129ms/step - loss: 1.3830 - accuracy: 0.6012 - val_loss: 2.9553 - val_accuracy: 0.3679\n",
            "Epoch 20/50\n",
            "782/782 [==============================] - 101s 129ms/step - loss: 1.3592 - accuracy: 0.6068 - val_loss: 2.9923 - val_accuracy: 0.3564\n",
            "Epoch 21/50\n",
            "782/782 [==============================] - 101s 129ms/step - loss: 1.2983 - accuracy: 0.6230 - val_loss: 3.0737 - val_accuracy: 0.3664\n",
            "Epoch 22/50\n",
            "782/782 [==============================] - 101s 129ms/step - loss: 1.2614 - accuracy: 0.6308 - val_loss: 3.0837 - val_accuracy: 0.3625\n",
            "Epoch 23/50\n",
            "782/782 [==============================] - 101s 129ms/step - loss: 1.2210 - accuracy: 0.6412 - val_loss: 3.1663 - val_accuracy: 0.3541\n",
            "Epoch 24/50\n",
            "782/782 [==============================] - 101s 129ms/step - loss: 1.1902 - accuracy: 0.6471 - val_loss: 3.2316 - val_accuracy: 0.3592\n",
            "Epoch 25/50\n",
            "782/782 [==============================] - 100s 128ms/step - loss: 1.1847 - accuracy: 0.6521 - val_loss: 3.2933 - val_accuracy: 0.3498\n",
            "Epoch 26/50\n",
            "782/782 [==============================] - 101s 129ms/step - loss: 1.1371 - accuracy: 0.6643 - val_loss: 3.3859 - val_accuracy: 0.3560\n",
            "Epoch 27/50\n",
            "782/782 [==============================] - 100s 128ms/step - loss: 1.1124 - accuracy: 0.6703 - val_loss: 3.4864 - val_accuracy: 0.3481\n",
            "Epoch 28/50\n",
            "782/782 [==============================] - 100s 128ms/step - loss: 1.1008 - accuracy: 0.6729 - val_loss: 3.4902 - val_accuracy: 0.3417\n",
            "Epoch 29/50\n",
            "782/782 [==============================] - 100s 128ms/step - loss: 1.1095 - accuracy: 0.6700 - val_loss: 3.7063 - val_accuracy: 0.3495\n",
            "Epoch 30/50\n",
            "782/782 [==============================] - 100s 128ms/step - loss: 1.0729 - accuracy: 0.6824 - val_loss: 3.6732 - val_accuracy: 0.3466\n",
            "Epoch 31/50\n",
            "782/782 [==============================] - 100s 128ms/step - loss: 1.0428 - accuracy: 0.6892 - val_loss: 3.6491 - val_accuracy: 0.3489\n",
            "Epoch 32/50\n",
            "782/782 [==============================] - 101s 129ms/step - loss: 1.0170 - accuracy: 0.6993 - val_loss: 3.7075 - val_accuracy: 0.3443\n",
            "Epoch 33/50\n",
            "782/782 [==============================] - 101s 129ms/step - loss: 1.0377 - accuracy: 0.6922 - val_loss: 3.8107 - val_accuracy: 0.3426\n",
            "Epoch 34/50\n",
            "782/782 [==============================] - 101s 129ms/step - loss: 1.0198 - accuracy: 0.6976 - val_loss: 3.8304 - val_accuracy: 0.3404\n",
            "Epoch 35/50\n",
            "782/782 [==============================] - 101s 129ms/step - loss: 1.0140 - accuracy: 0.6992 - val_loss: 4.1557 - val_accuracy: 0.3342\n",
            "Epoch 36/50\n",
            "782/782 [==============================] - 100s 128ms/step - loss: 0.9811 - accuracy: 0.7089 - val_loss: 3.9864 - val_accuracy: 0.3455\n",
            "Epoch 37/50\n",
            "782/782 [==============================] - 101s 129ms/step - loss: 0.9979 - accuracy: 0.7035 - val_loss: 4.1204 - val_accuracy: 0.3294\n",
            "Epoch 38/50\n",
            "782/782 [==============================] - 100s 128ms/step - loss: 1.0007 - accuracy: 0.7055 - val_loss: 4.2945 - val_accuracy: 0.3440\n",
            "Epoch 39/50\n",
            "782/782 [==============================] - 100s 128ms/step - loss: 0.9722 - accuracy: 0.7130 - val_loss: 4.1285 - val_accuracy: 0.3171\n",
            "Epoch 40/50\n",
            "782/782 [==============================] - 101s 129ms/step - loss: 0.9814 - accuracy: 0.7116 - val_loss: 4.0041 - val_accuracy: 0.3243\n",
            "Epoch 41/50\n",
            "782/782 [==============================] - 101s 129ms/step - loss: 0.9639 - accuracy: 0.7181 - val_loss: 4.3891 - val_accuracy: 0.3249\n",
            "Epoch 42/50\n",
            "782/782 [==============================] - 101s 129ms/step - loss: 0.9609 - accuracy: 0.7191 - val_loss: 4.1934 - val_accuracy: 0.3297\n",
            "Epoch 43/50\n",
            "782/782 [==============================] - 101s 129ms/step - loss: 0.9298 - accuracy: 0.7258 - val_loss: 4.2645 - val_accuracy: 0.3152\n",
            "Epoch 44/50\n",
            "782/782 [==============================] - 101s 129ms/step - loss: 0.9405 - accuracy: 0.7241 - val_loss: 4.7163 - val_accuracy: 0.3279\n",
            "Epoch 45/50\n",
            "782/782 [==============================] - 101s 129ms/step - loss: 0.9716 - accuracy: 0.7179 - val_loss: 4.6266 - val_accuracy: 0.3294\n",
            "Epoch 46/50\n",
            "782/782 [==============================] - 101s 129ms/step - loss: 0.9077 - accuracy: 0.7354 - val_loss: 4.4876 - val_accuracy: 0.3209\n",
            "Epoch 47/50\n",
            "782/782 [==============================] - 101s 130ms/step - loss: 0.9457 - accuracy: 0.7230 - val_loss: 4.6338 - val_accuracy: 0.3237\n",
            "Epoch 48/50\n",
            "782/782 [==============================] - 101s 129ms/step - loss: 0.9432 - accuracy: 0.7278 - val_loss: 4.4643 - val_accuracy: 0.3274\n",
            "Epoch 49/50\n",
            "782/782 [==============================] - 102s 130ms/step - loss: 0.8834 - accuracy: 0.7389 - val_loss: 4.7115 - val_accuracy: 0.3195\n",
            "Epoch 50/50\n",
            "782/782 [==============================] - 102s 130ms/step - loss: 0.9206 - accuracy: 0.7342 - val_loss: 4.8088 - val_accuracy: 0.3209\n"
          ]
        }
      ]
    },
    {
      "cell_type": "code",
      "source": [
        "score = model.evaluate(x_test, y_test)\n",
        "print('Test score:', score[0])\n",
        "print('Test accuracy:', score[1])"
      ],
      "metadata": {
        "colab": {
          "base_uri": "https://localhost:8080/"
        },
        "id": "GAyKzjfwNssT",
        "outputId": "ab627a14-8a62-4886-9679-0f4d5cddc043"
      },
      "execution_count": 6,
      "outputs": [
        {
          "output_type": "stream",
          "name": "stdout",
          "text": [
            "313/313 [==============================] - 10s 31ms/step - loss: 4.8088 - accuracy: 0.3209\n",
            "Test score: 4.8088459968566895\n",
            "Test accuracy: 0.32089999318122864\n"
          ]
        }
      ]
    },
    {
      "cell_type": "markdown",
      "source": [
        "# Vẽ đồ thị"
      ],
      "metadata": {
        "id": "LKzGQFA1N1Cw"
      }
    },
    {
      "cell_type": "code",
      "source": [
        "pd.DataFrame(history.history).plot(figsize=(8,5))\n",
        "plt.grid(True)\n",
        "plt.gca().set_ylim(0,1)\n",
        "plt.show()"
      ],
      "metadata": {
        "colab": {
          "base_uri": "https://localhost:8080/",
          "height": 324
        },
        "id": "vNa-2b0jN6qg",
        "outputId": "93b21fb7-c540-448b-a439-316ae6622940"
      },
      "execution_count": 7,
      "outputs": [
        {
          "output_type": "display_data",
          "data": {
            "text/plain": [
              "<Figure size 576x360 with 1 Axes>"
            ],
            "image/png": "[encoded data removed]"
          },
          "metadata": {
            "needs_background": "light"
          }
        }
      ]
    },
    {
      "cell_type": "code",
      "source": [
        "plt.plot(history.history['accuracy'])\n",
        "plt.plot(history.history['val_accuracy'])\n",
        "plt.title('model accuracy')\n",
        "plt.ylabel('accuracy')\n",
        "plt.xlabel('epoch')\n",
        "plt.legend(['train', 'validation'])\n",
        "plt.show()"
      ],
      "metadata": {
        "colab": {
          "base_uri": "https://localhost:8080/",
          "height": 295
        },
        "id": "iCNHgMg1N7nr",
        "outputId": "e1fab432-b0a5-41c8-cbd5-bb3993469bf8"
      },
      "execution_count": 8,
      "outputs": [
        {
          "output_type": "display_data",
          "data": {
            "text/plain": [
              "<Figure size 432x288 with 1 Axes>"
            ],
            "image/png": "[encoded data removed]"
          },
          "metadata": {
            "needs_background": "light"
          }
        }
      ]
    },
    {
      "cell_type": "markdown",
      "source": [
        "# Kiểm tra"
      ],
      "metadata": {
        "id": "q46VSyNjN-DE"
      }
    },
    {
      "cell_type": "code",
      "source": [
        "Label = ['apple', 'aquarium_fish', 'baby', 'bear', 'beaver', 'bed', 'bee', 'beetle', 'bicycle', 'bottle', 'bowl', 'boy', 'bridge', 'bus', 'butterfly', 'camel', 'can', 'castle', 'caterpillar', 'cattle', 'chair', 'chimpanzee', 'clock', 'cloud', 'cockroach', 'couch', 'crab', 'crocodile', 'cup', 'dinosaur', 'dolphin', 'elephant', 'flatfish', 'forest', 'fox', 'girl', 'hamster', 'house', 'kangaroo', 'keyboard', 'lamp', 'lawn_mower', 'leopard', 'lion', 'lizard', 'lobster', 'man', 'maple_tree', 'motorcycle', 'mountain', 'mouse', 'mushroom', 'oak_tree', 'orange', 'orchid', 'otter', 'palm_tree', 'pear', 'pickup_truck', 'pine_tree', 'plain', 'plate', 'poppy', 'porcupine', 'possum', 'rabbit', 'raccoon', 'ray', 'road', 'rocket', 'rose', 'sea', 'seal', 'shark', 'shrew', 'skunk', 'skyscraper', 'snail', 'snake', 'spider', 'squirrel', 'streetcar', 'sunflower', 'sweet_pepper', 'table', 'tank', 'telephone', 'television', 'tiger', 'tractor', 'train', 'trout', 'tulip', 'turtle', 'wardrobe', 'whale', 'willow_tree', 'wolf', 'woman', 'worm']\n",
        "test = 5\n",
        "plt.title(\" Dự đoán đối tượng là: \" + str(Label[np.argmax(model.predict(x_pre[test].reshape(-1,32,32,3)))]))\n",
        "plt.imshow(x_pre[test], cmap=plt.get_cmap('gray'))"
      ],
      "metadata": {
        "colab": {
          "base_uri": "https://localhost:8080/",
          "height": 300
        },
        "id": "P6PHX4ytODRL",
        "outputId": "ced50693-dcb7-4764-a4be-49accc26483d"
      },
      "execution_count": 10,
      "outputs": [
        {
          "output_type": "execute_result",
          "data": {
            "text/plain": [
              "<matplotlib.image.AxesImage at 0x7f6435953ad0>"
            ]
          },
          "metadata": {},
          "execution_count": 10
        },
        {
          "output_type": "display_data",
          "data": {
            "text/plain": [
              "<Figure size 432x288 with 1 Axes>"
            ],
            "image/png": "[encoded data removed]"
          },
          "metadata": {
            "needs_background": "light"
          }
        }
      ]
    },
    {
      "cell_type": "code",
      "source": [
        "test = 30\n",
        "plt.title(\" Dự đoán đối tượng là: \" + str(Label[np.argmax(model.predict(x_pre[test].reshape(-1,32,32,3)))]))\n",
        "plt.imshow(x_pre[test], cmap=plt.get_cmap('gray'))"
      ],
      "metadata": {
        "colab": {
          "base_uri": "https://localhost:8080/",
          "height": 300
        },
        "id": "RkUJGVV7jbSq",
        "outputId": "4e3d7a9a-d525-4345-97f4-1308079c3552"
      },
      "execution_count": 14,
      "outputs": [
        {
          "output_type": "execute_result",
          "data": {
            "text/plain": [
              "<matplotlib.image.AxesImage at 0x7f643287b6d0>"
            ]
          },
          "metadata": {},
          "execution_count": 14
        },
        {
          "output_type": "display_data",
          "data": {
            "text/plain": [
              "<Figure size 432x288 with 1 Axes>"
            ],
            "image/png": "[encoded data removed]"
          },
          "metadata": {
            "needs_background": "light"
          }
        }
      ]
    },
    {
      "cell_type": "code",
      "source": [
        "model.save('CNN_CIFA100.h5')"
      ],
      "metadata": {
        "id": "E2yNHXwCjx5l"
      },
      "execution_count": 15,
      "outputs": []
    }
  ]
}