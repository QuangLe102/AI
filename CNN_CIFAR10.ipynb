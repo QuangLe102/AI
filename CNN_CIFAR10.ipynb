{
  "cells": [
    {
      "cell_type": "markdown",
      "metadata": {
        "id": "view-in-github",
        "colab_type": "text"
      },
      "source": [
        "<a href=\"https://colab.research.google.com/github/QuangLe102/AI/blob/main/CNN_CIFAR10.ipynb\" target=\"_parent\"><img src=\"https://colab.research.google.com/assets/colab-badge.svg\" alt=\"Open In Colab\"/></a>"
      ]
    },
    {
      "cell_type": "markdown",
      "source": [
        "# Import thư viện"
      ],
      "metadata": {
        "id": "J0PTKnhyHP3L"
      }
    },
    {
      "cell_type": "code",
      "source": [
        "import cv2\n",
        "import sklearn\n",
        "import numpy as np\n",
        "import pandas as pd\n",
        "import tensorflow as tf\n",
        "from tensorflow import keras\n",
        "import matplotlib.pyplot as plt\n",
        "from keras.utils import np_utils\n",
        "from keras.datasets import cifar10\n",
        "from keras.models import Sequential\n",
        "from sklearn.preprocessing import scale\n",
        "from sklearn.preprocessing import StandardScaler\n",
        "from tensorflow.keras import datasets, layers, models\n",
        "from tensorflow.keras.optimizers import Adam, RMSprop\n",
        "from keras.layers import Dense, Activation, Dropout,Flatten, Conv2D,MaxPooling2D\n",
        "from tensorflow.keras.utils import to_categorical \n",
        "from tensorflow.keras.optimizers import Adam, RMSprop,SGD"
      ],
      "metadata": {
        "id": "hgIHkuM4OhJT"
      },
      "execution_count": 7,
      "outputs": []
    },
    {
      "cell_type": "markdown",
      "source": [
        "# Load và xử lý data"
      ],
      "metadata": {
        "id": "lVYot8C4HiRt"
      }
    },
    {
      "cell_type": "code",
      "source": [
        "(x_train, y_train), (x_test, y_test) = cifar10.load_data()\n",
        "x_pre = x_test\n",
        "x_train = x_train.astype('float32')\n",
        "x_test = x_test.astype('float32')\n",
        "x_train /= 255\n",
        "x_test /= 255\n",
        "y_train = np_utils.to_categorical(y_train,10)\n",
        "y_test = np_utils.to_categorical(y_test,10)"
      ],
      "metadata": {
        "id": "dkAg8E9-Hvz9"
      },
      "execution_count": 8,
      "outputs": []
    },
    {
      "cell_type": "markdown",
      "source": [
        "# Tạo model"
      ],
      "metadata": {
        "id": "wBrfLj5qJZdU"
      }
    },
    {
      "cell_type": "code",
      "source": [
        "model = Sequential()\n",
        "model.add(Conv2D(32,(3,3),activation = 'relu', kernel_initializer='he_uniform',padding='same',input_shape=(32,32,3)))\n",
        "model.add(MaxPooling2D(2,2))\n",
        "model.add(Conv2D(64,(3,3),activation = 'relu', kernel_initializer='he_uniform',padding='same'))\n",
        "model.add(MaxPooling2D(2,2))\n",
        "model.add(Conv2D(128,(3,3),activation = 'relu', kernel_initializer='he_uniform',padding='same'))\n",
        "model.add(MaxPooling2D(2,2))\n",
        "model.add(Flatten())\n",
        "\n",
        "#ANN\n",
        "model.add(Dense(64,activation='relu',kernel_initializer='he_uniform'))\n",
        "model.add(Dense(128,activation='relu',kernel_initializer='he_uniform'))\n",
        "model.add(Dense(10,activation='softmax'))\n",
        "model.summary()"
      ],
      "metadata": {
        "id": "yz0clS-FQaYC",
        "colab": {
          "base_uri": "https://localhost:8080/"
        },
        "outputId": "69037db9-4e62-48ad-cccd-6781686a692f"
      },
      "execution_count": 9,
      "outputs": [
        {
          "output_type": "stream",
          "name": "stdout",
          "text": [
            "Model: \"sequential_1\"\n",
            "_________________________________________________________________\n",
            " Layer (type)                Output Shape              Param #   \n",
            "=================================================================\n",
            " conv2d_3 (Conv2D)           (None, 32, 32, 32)        896       \n",
            "                                                                 \n",
            " max_pooling2d_3 (MaxPooling  (None, 16, 16, 32)       0         \n",
            " 2D)                                                             \n",
            "                                                                 \n",
            " conv2d_4 (Conv2D)           (None, 16, 16, 64)        18496     \n",
            "                                                                 \n",
            " max_pooling2d_4 (MaxPooling  (None, 8, 8, 64)         0         \n",
            " 2D)                                                             \n",
            "                                                                 \n",
            " conv2d_5 (Conv2D)           (None, 8, 8, 128)         73856     \n",
            "                                                                 \n",
            " max_pooling2d_5 (MaxPooling  (None, 4, 4, 128)        0         \n",
            " 2D)                                                             \n",
            "                                                                 \n",
            " flatten_1 (Flatten)         (None, 2048)              0         \n",
            "                                                                 \n",
            " dense_3 (Dense)             (None, 64)                131136    \n",
            "                                                                 \n",
            " dense_4 (Dense)             (None, 128)               8320      \n",
            "                                                                 \n",
            " dense_5 (Dense)             (None, 10)                1290      \n",
            "                                                                 \n",
            "=================================================================\n",
            "Total params: 233,994\n",
            "Trainable params: 233,994\n",
            "Non-trainable params: 0\n",
            "_________________________________________________________________\n"
          ]
        }
      ]
    },
    {
      "cell_type": "markdown",
      "source": [
        "# Compile và train"
      ],
      "metadata": {
        "id": "gnVAgWmbKOy_"
      }
    },
    {
      "cell_type": "code",
      "source": [
        "opt= SGD(lr=0.01,momentum = 0.9)\n",
        "model.compile(optimizer=opt, loss='categorical_crossentropy', metrics=['accuracy'])\n",
        "history = model.fit(x_train,y_train,epochs= 50,batch_size=64,validation_data=(x_test,y_test),verbose=1)"
      ],
      "metadata": {
        "colab": {
          "base_uri": "https://localhost:8080/"
        },
        "id": "OAp3XVsYKekZ",
        "outputId": "cec74f3e-dba6-48a1-c264-38bab59ba80e"
      },
      "execution_count": 10,
      "outputs": [
        {
          "output_type": "stream",
          "name": "stderr",
          "text": [
            "/usr/local/lib/python3.7/dist-packages/keras/optimizer_v2/gradient_descent.py:102: UserWarning: The `lr` argument is deprecated, use `learning_rate` instead.\n",
            "  super(SGD, self).__init__(name, **kwargs)\n"
          ]
        },
        {
          "output_type": "stream",
          "name": "stdout",
          "text": [
            "Epoch 1/50\n",
            "782/782 [==============================] - 104s 132ms/step - loss: 1.5255 - accuracy: 0.4419 - val_loss: 1.3927 - val_accuracy: 0.4852\n",
            "Epoch 2/50\n",
            "782/782 [==============================] - 100s 128ms/step - loss: 1.1195 - accuracy: 0.6025 - val_loss: 1.0360 - val_accuracy: 0.6305\n",
            "Epoch 3/50\n",
            "782/782 [==============================] - 100s 128ms/step - loss: 0.9370 - accuracy: 0.6693 - val_loss: 0.9321 - val_accuracy: 0.6767\n",
            "Epoch 4/50\n",
            "782/782 [==============================] - 100s 128ms/step - loss: 0.8258 - accuracy: 0.7093 - val_loss: 0.9086 - val_accuracy: 0.6903\n",
            "Epoch 5/50\n",
            "782/782 [==============================] - 101s 129ms/step - loss: 0.7217 - accuracy: 0.7463 - val_loss: 0.8862 - val_accuracy: 0.7010\n",
            "Epoch 6/50\n",
            "782/782 [==============================] - 99s 127ms/step - loss: 0.6588 - accuracy: 0.7697 - val_loss: 0.9107 - val_accuracy: 0.6935\n",
            "Epoch 7/50\n",
            "782/782 [==============================] - 99s 127ms/step - loss: 0.5838 - accuracy: 0.7935 - val_loss: 0.8703 - val_accuracy: 0.7039\n",
            "Epoch 8/50\n",
            "782/782 [==============================] - 99s 127ms/step - loss: 0.5276 - accuracy: 0.8135 - val_loss: 0.8872 - val_accuracy: 0.7166\n",
            "Epoch 9/50\n",
            "782/782 [==============================] - 99s 127ms/step - loss: 0.4718 - accuracy: 0.8352 - val_loss: 0.9091 - val_accuracy: 0.7069\n",
            "Epoch 10/50\n",
            "782/782 [==============================] - 99s 127ms/step - loss: 0.4200 - accuracy: 0.8510 - val_loss: 0.9548 - val_accuracy: 0.7176\n",
            "Epoch 11/50\n",
            "782/782 [==============================] - 99s 127ms/step - loss: 0.3873 - accuracy: 0.8636 - val_loss: 0.9819 - val_accuracy: 0.7194\n",
            "Epoch 12/50\n",
            "782/782 [==============================] - 99s 127ms/step - loss: 0.3457 - accuracy: 0.8787 - val_loss: 1.0058 - val_accuracy: 0.7192\n",
            "Epoch 13/50\n",
            "782/782 [==============================] - 99s 127ms/step - loss: 0.3173 - accuracy: 0.8880 - val_loss: 1.0372 - val_accuracy: 0.7178\n",
            "Epoch 14/50\n",
            "782/782 [==============================] - 99s 127ms/step - loss: 0.2840 - accuracy: 0.8996 - val_loss: 1.1118 - val_accuracy: 0.7194\n",
            "Epoch 15/50\n",
            "782/782 [==============================] - 99s 127ms/step - loss: 0.2558 - accuracy: 0.9087 - val_loss: 1.1008 - val_accuracy: 0.7164\n",
            "Epoch 16/50\n",
            "782/782 [==============================] - 99s 127ms/step - loss: 0.2349 - accuracy: 0.9171 - val_loss: 1.3236 - val_accuracy: 0.6938\n",
            "Epoch 17/50\n",
            "782/782 [==============================] - 100s 127ms/step - loss: 0.2312 - accuracy: 0.9181 - val_loss: 1.3663 - val_accuracy: 0.6981\n",
            "Epoch 18/50\n",
            "782/782 [==============================] - 100s 127ms/step - loss: 0.2075 - accuracy: 0.9268 - val_loss: 1.2722 - val_accuracy: 0.7184\n",
            "Epoch 19/50\n",
            "782/782 [==============================] - 100s 128ms/step - loss: 0.1893 - accuracy: 0.9340 - val_loss: 1.2739 - val_accuracy: 0.7192\n",
            "Epoch 20/50\n",
            "782/782 [==============================] - 100s 127ms/step - loss: 0.1756 - accuracy: 0.9385 - val_loss: 1.3546 - val_accuracy: 0.7211\n",
            "Epoch 21/50\n",
            "782/782 [==============================] - 100s 128ms/step - loss: 0.1559 - accuracy: 0.9465 - val_loss: 1.4084 - val_accuracy: 0.7134\n",
            "Epoch 22/50\n",
            "782/782 [==============================] - 100s 127ms/step - loss: 0.1660 - accuracy: 0.9425 - val_loss: 1.4848 - val_accuracy: 0.7125\n",
            "Epoch 23/50\n",
            "782/782 [==============================] - 99s 127ms/step - loss: 0.1498 - accuracy: 0.9487 - val_loss: 1.5537 - val_accuracy: 0.7102\n",
            "Epoch 24/50\n",
            "782/782 [==============================] - 99s 127ms/step - loss: 0.1461 - accuracy: 0.9493 - val_loss: 1.6314 - val_accuracy: 0.7062\n",
            "Epoch 25/50\n",
            "782/782 [==============================] - 99s 127ms/step - loss: 0.1324 - accuracy: 0.9545 - val_loss: 1.5587 - val_accuracy: 0.7066\n",
            "Epoch 26/50\n",
            "782/782 [==============================] - 99s 127ms/step - loss: 0.1379 - accuracy: 0.9530 - val_loss: 1.6419 - val_accuracy: 0.7171\n",
            "Epoch 27/50\n",
            "782/782 [==============================] - 99s 127ms/step - loss: 0.1138 - accuracy: 0.9621 - val_loss: 1.6116 - val_accuracy: 0.7180\n",
            "Epoch 28/50\n",
            "782/782 [==============================] - 99s 127ms/step - loss: 0.1167 - accuracy: 0.9601 - val_loss: 1.6897 - val_accuracy: 0.7134\n",
            "Epoch 29/50\n",
            "782/782 [==============================] - 99s 127ms/step - loss: 0.1155 - accuracy: 0.9617 - val_loss: 1.7636 - val_accuracy: 0.7112\n",
            "Epoch 30/50\n",
            "782/782 [==============================] - 99s 127ms/step - loss: 0.1114 - accuracy: 0.9632 - val_loss: 1.8535 - val_accuracy: 0.7137\n",
            "Epoch 31/50\n",
            "782/782 [==============================] - 99s 127ms/step - loss: 0.1129 - accuracy: 0.9625 - val_loss: 1.7805 - val_accuracy: 0.7192\n",
            "Epoch 32/50\n",
            "782/782 [==============================] - 99s 127ms/step - loss: 0.1132 - accuracy: 0.9621 - val_loss: 1.8251 - val_accuracy: 0.7126\n",
            "Epoch 33/50\n",
            "782/782 [==============================] - 99s 127ms/step - loss: 0.0995 - accuracy: 0.9671 - val_loss: 1.8436 - val_accuracy: 0.7102\n",
            "Epoch 34/50\n",
            "782/782 [==============================] - 99s 127ms/step - loss: 0.0919 - accuracy: 0.9694 - val_loss: 1.8076 - val_accuracy: 0.7128\n",
            "Epoch 35/50\n",
            "782/782 [==============================] - 99s 127ms/step - loss: 0.1016 - accuracy: 0.9667 - val_loss: 1.7722 - val_accuracy: 0.7199\n",
            "Epoch 36/50\n",
            "782/782 [==============================] - 99s 127ms/step - loss: 0.0936 - accuracy: 0.9687 - val_loss: 1.8803 - val_accuracy: 0.7132\n",
            "Epoch 37/50\n",
            "782/782 [==============================] - 99s 127ms/step - loss: 0.0856 - accuracy: 0.9721 - val_loss: 1.9562 - val_accuracy: 0.7109\n",
            "Epoch 38/50\n",
            "782/782 [==============================] - 99s 127ms/step - loss: 0.0846 - accuracy: 0.9724 - val_loss: 1.9424 - val_accuracy: 0.7096\n",
            "Epoch 39/50\n",
            "782/782 [==============================] - 99s 127ms/step - loss: 0.0860 - accuracy: 0.9722 - val_loss: 1.9096 - val_accuracy: 0.7171\n",
            "Epoch 40/50\n",
            "782/782 [==============================] - 99s 127ms/step - loss: 0.0798 - accuracy: 0.9736 - val_loss: 1.9992 - val_accuracy: 0.7234\n",
            "Epoch 41/50\n",
            "782/782 [==============================] - 99s 127ms/step - loss: 0.0809 - accuracy: 0.9739 - val_loss: 2.1338 - val_accuracy: 0.7149\n",
            "Epoch 42/50\n",
            "782/782 [==============================] - 99s 127ms/step - loss: 0.0942 - accuracy: 0.9704 - val_loss: 2.0759 - val_accuracy: 0.7057\n",
            "Epoch 43/50\n",
            "782/782 [==============================] - 100s 127ms/step - loss: 0.0886 - accuracy: 0.9719 - val_loss: 2.0365 - val_accuracy: 0.7236\n",
            "Epoch 44/50\n",
            "782/782 [==============================] - 99s 127ms/step - loss: 0.0723 - accuracy: 0.9771 - val_loss: 2.1404 - val_accuracy: 0.7153\n",
            "Epoch 45/50\n",
            "782/782 [==============================] - 100s 127ms/step - loss: 0.0676 - accuracy: 0.9775 - val_loss: 2.1209 - val_accuracy: 0.7082\n",
            "Epoch 46/50\n",
            "782/782 [==============================] - 100s 127ms/step - loss: 0.0839 - accuracy: 0.9734 - val_loss: 2.0823 - val_accuracy: 0.7180\n",
            "Epoch 47/50\n",
            "782/782 [==============================] - 100s 128ms/step - loss: 0.0729 - accuracy: 0.9763 - val_loss: 2.1652 - val_accuracy: 0.7162\n",
            "Epoch 48/50\n",
            "782/782 [==============================] - 100s 127ms/step - loss: 0.0805 - accuracy: 0.9744 - val_loss: 2.1616 - val_accuracy: 0.7164\n",
            "Epoch 49/50\n",
            "782/782 [==============================] - 100s 127ms/step - loss: 0.0702 - accuracy: 0.9779 - val_loss: 2.0295 - val_accuracy: 0.7164\n",
            "Epoch 50/50\n",
            "782/782 [==============================] - 100s 127ms/step - loss: 0.0701 - accuracy: 0.9779 - val_loss: 2.2504 - val_accuracy: 0.7152\n"
          ]
        }
      ]
    },
    {
      "cell_type": "code",
      "source": [
        "score = model.evaluate(x_test, y_test)\n",
        "print('Test score:', score[0])\n",
        "print('Test accuracy:', score[1])"
      ],
      "metadata": {
        "colab": {
          "base_uri": "https://localhost:8080/"
        },
        "id": "-BGHiNyZLFmv",
        "outputId": "738f428a-280d-429a-e29b-af98a37c20b7"
      },
      "execution_count": 11,
      "outputs": [
        {
          "output_type": "stream",
          "name": "stdout",
          "text": [
            "313/313 [==============================] - 6s 19ms/step - loss: 2.2504 - accuracy: 0.7152\n",
            "Test score: 2.250410556793213\n",
            "Test accuracy: 0.7152000069618225\n"
          ]
        }
      ]
    },
    {
      "cell_type": "markdown",
      "source": [
        "# Vẽ đồ thị"
      ],
      "metadata": {
        "id": "mx9EnvGULYwk"
      }
    },
    {
      "cell_type": "code",
      "source": [
        "pd.DataFrame(history.history).plot(figsize=(8,5))\n",
        "plt.grid(True)\n",
        "plt.gca().set_ylim(0,1)\n",
        "plt.show()"
      ],
      "metadata": {
        "colab": {
          "base_uri": "https://localhost:8080/",
          "height": 324
        },
        "id": "C-qmrxSSLebd",
        "outputId": "9fa8eb5e-6a0e-4787-9f9e-9500b978549a"
      },
      "execution_count": 12,
      "outputs": [
        {
          "output_type": "display_data",
          "data": {
            "text/plain": [
              "<Figure size 576x360 with 1 Axes>"
            ],
            "image/png": "[encoded data removed]"
          },
          "metadata": {
            "needs_background": "light"
          }
        }
      ]
    },
    {
      "cell_type": "code",
      "source": [
        "plt.plot(history.history['accuracy'])\n",
        "plt.plot(history.history['val_accuracy'])\n",
        "plt.title('model accuracy')\n",
        "plt.ylabel('accuracy')\n",
        "plt.xlabel('epoch')\n",
        "plt.legend(['train', 'validation'])\n",
        "plt.show()"
      ],
      "metadata": {
        "colab": {
          "base_uri": "https://localhost:8080/",
          "height": 295
        },
        "id": "VnMCdOuOLf_P",
        "outputId": "0987e259-557f-4175-c4e8-acc5f1147521"
      },
      "execution_count": 13,
      "outputs": [
        {
          "output_type": "display_data",
          "data": {
            "text/plain": [
              "<Figure size 432x288 with 1 Axes>"
            ],
            "image/png": "[encoded data removed]"
          },
          "metadata": {
            "needs_background": "light"
          }
        }
      ]
    },
    {
      "cell_type": "markdown",
      "source": [
        "# Kiểm tra"
      ],
      "metadata": {
        "id": "QZ7k2FCsLl1z"
      }
    },
    {
      "cell_type": "code",
      "source": [
        "Label = ['Airplane', 'Automobile', 'Bird', 'Cat', 'Deer', 'Dog', 'Frog', 'Horse', 'Ship', 'Truck']\n",
        "\n",
        "test = 1\n",
        "plt.title(\" Dự đoán đối tượng là: \" + str(Label[np.argmax(model.predict(x_pre[test].reshape(-1,32,32,3)))]))\n",
        "plt.imshow(x_pre[test], cmap=plt.get_cmap('gray'))"
      ],
      "metadata": {
        "colab": {
          "base_uri": "https://localhost:8080/",
          "height": 300
        },
        "id": "7w0Md0JfLqJ4",
        "outputId": "e4a3091e-42ac-4cc4-cf6f-3df2e0cb1e01"
      },
      "execution_count": 15,
      "outputs": [
        {
          "output_type": "execute_result",
          "data": {
            "text/plain": [
              "<matplotlib.image.AxesImage at 0x7f6d54e218d0>"
            ]
          },
          "metadata": {},
          "execution_count": 15
        },
        {
          "output_type": "display_data",
          "data": {
            "text/plain": [
              "<Figure size 432x288 with 1 Axes>"
            ],
            "image/png": "[encoded data removed]"
          },
          "metadata": {
            "needs_background": "light"
          }
        }
      ]
    },
    {
      "cell_type": "code",
      "source": [
        "test = 10\n",
        "plt.title(\" Dự đoán đối tượng là: \" + str(Label[np.argmax(model.predict(x_pre[test].reshape(-1,32,32,3)))]))\n",
        "plt.imshow(x_pre[test], cmap=plt.get_cmap('gray'))"
      ],
      "metadata": {
        "colab": {
          "base_uri": "https://localhost:8080/",
          "height": 300
        },
        "id": "2BBPWFvBf5OQ",
        "outputId": "cd81e175-93b9-4261-c988-15a3e8a809bb"
      },
      "execution_count": 16,
      "outputs": [
        {
          "output_type": "execute_result",
          "data": {
            "text/plain": [
              "<matplotlib.image.AxesImage at 0x7f6d4b501390>"
            ]
          },
          "metadata": {},
          "execution_count": 16
        },
        {
          "output_type": "display_data",
          "data": {
            "text/plain": [
              "<Figure size 432x288 with 1 Axes>"
            ],
            "image/png": "[encoded data removed]"
          },
          "metadata": {
            "needs_background": "light"
          }
        }
      ]
    },
    {
      "cell_type": "code",
      "source": [
        "model.save('CNN_CIFA10.h5')"
      ],
      "metadata": {
        "id": "L2A_ebczf2_Y"
      },
      "execution_count": 17,
      "outputs": []
    }
  ],
  "metadata": {
    "colab": {
      "name": "CNN_CIFAR10.ipynb",
      "provenance": [],
      "collapsed_sections": [],
      "authorship_tag": "ABX9TyMBuBbv61kaS0ACKplXABov",
      "include_colab_link": true
    },
    "kernelspec": {
      "display_name": "Python 3",
      "name": "python3"
    },
    "language_info": {
      "name": "python"
    }
  },
  "nbformat": 4,
  "nbformat_minor": 0
}