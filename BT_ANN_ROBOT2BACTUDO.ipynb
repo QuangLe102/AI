{
  "nbformat": 4,
  "nbformat_minor": 0,
  "metadata": {
    "colab": {
      "name": "BT_ANN_ROBOT2BACTUDO.ipynb",
      "provenance": [],
      "collapsed_sections": [],
      "authorship_tag": "ABX9TyMm4049eGEc6yH0sU4Vd+f5",
      "include_colab_link": true
    },
    "kernelspec": {
      "name": "python3",
      "display_name": "Python 3"
    },
    "language_info": {
      "name": "python"
    }
  },
  "cells": [
    {
      "cell_type": "markdown",
      "metadata": {
        "id": "view-in-github",
        "colab_type": "text"
      },
      "source": [
        "<a href=\"https://colab.research.google.com/github/QuangLe102/AI/blob/main/BT_ANN_ROBOT2BACTUDO.ipynb\" target=\"_parent\"><img src=\"https://colab.research.google.com/assets/colab-badge.svg\" alt=\"Open In Colab\"/></a>"
      ]
    },
    {
      "cell_type": "code",
      "execution_count": 13,
      "metadata": {
        "id": "zk31w84NDbCX"
      },
      "outputs": [],
      "source": [
        "#import thư viện\n",
        "\n",
        "from sklearn.utils import shuffle\n",
        "import cv2\n",
        "import pickle\n",
        "import sklearn\n",
        "import numpy as np\n",
        "import pandas as pd\n",
        "import tensorflow as tf\n",
        "from tensorflow import keras\n",
        "import matplotlib.pyplot as plt\n",
        "from keras.utils import np_utils\n",
        "from keras.datasets import cifar10\n",
        "from keras.models import Sequential\n",
        "from sklearn.preprocessing import scale\n",
        "from sklearn.preprocessing import StandardScaler\n",
        "from tensorflow.keras import datasets, layers, models\n",
        "from tensorflow.keras.optimizers import Adam, RMSprop\n",
        "from keras.layers import Dense, Activation, Dropout,Flatten\n",
        "from tensorflow.keras.utils import to_categorical \n",
        "from sklearn.linear_model import Perceptron\n",
        "from sklearn.model_selection import train_test_split\n",
        "from sklearn.metrics import accuracy_score\n",
        "import math\n",
        "import csv"
      ]
    },
    {
      "cell_type": "code",
      "source": [
        "l1=50\n",
        "l2=40\n",
        "z=[]\n",
        "for t1 in range(0,180,1):\n",
        "  for t2 in range(0,180,1):\n",
        "    x=l1*math.cos(math.radians(t1))+l2*math.cos(math.radians(t1+t2))\n",
        "    y=l1*math.sin(math.radians(t1))+l2*math.sin(math.radians(t1+t2))\n",
        "    z.append(np.array((t1,t2,x,y)))\n",
        "    label = ['theta1', 'theta2', 'x', 'y']\n",
        "with open('robot2btd.csv', 'w', encoding='UTF8', newline='') as f:\n",
        "    writer = csv.writer(f)\n",
        "    writer.writerow(label)\n",
        "    writer.writerows(z)"
      ],
      "metadata": {
        "id": "6zcB9u3sEYQ_"
      },
      "execution_count": 14,
      "outputs": []
    },
    {
      "cell_type": "code",
      "source": [
        "data = pd.read_csv('robot2btd.csv')\n",
        "data.shape\n",
        "numpy_dataset = data.values\n",
        "y=numpy_dataset[:,:2]\n",
        "x=numpy_dataset[:,2:]\n",
        "x_train,x_test,y_train,y_test = train_test_split(x, y, test_size=0.2)\n",
        "\n",
        "model = Sequential() \n",
        "model.add(Dense(128, activation='relu', input_shape = (2,))) \n",
        "model.add(Dense(64, activation='relu'))\n",
        "model.add(Dense(64, activation='relu'))\n",
        "model.add(Dense(32, activation='relu'))\n",
        "model.add(Dense(2))\n",
        "model.summary()"
      ],
      "metadata": {
        "colab": {
          "base_uri": "https://localhost:8080/"
        },
        "id": "diK8fdeUF7XA",
        "outputId": "0d4d1527-6af0-416c-933e-103d405f94e9"
      },
      "execution_count": 16,
      "outputs": [
        {
          "output_type": "stream",
          "name": "stdout",
          "text": [
            "Model: \"sequential_2\"\n",
            "_________________________________________________________________\n",
            " Layer (type)                Output Shape              Param #   \n",
            "=================================================================\n",
            " dense_10 (Dense)            (None, 128)               384       \n",
            "                                                                 \n",
            " dense_11 (Dense)            (None, 64)                8256      \n",
            "                                                                 \n",
            " dense_12 (Dense)            (None, 64)                4160      \n",
            "                                                                 \n",
            " dense_13 (Dense)            (None, 32)                2080      \n",
            "                                                                 \n",
            " dense_14 (Dense)            (None, 2)                 66        \n",
            "                                                                 \n",
            "=================================================================\n",
            "Total params: 14,946\n",
            "Trainable params: 14,946\n",
            "Non-trainable params: 0\n",
            "_________________________________________________________________\n"
          ]
        }
      ]
    },
    {
      "cell_type": "code",
      "source": [
        "model.compile(loss='mse', optimizer =Adam(), metrics=['accuracy'])\n",
        "history = model.fit(x_train, y_train, batch_size = 64, epochs = 30, validation_split = 0.2)"
      ],
      "metadata": {
        "colab": {
          "base_uri": "https://localhost:8080/"
        },
        "id": "agzaWwWPGss4",
        "outputId": "e1ed16bd-b910-4447-97f2-58b11457fb7a"
      },
      "execution_count": 17,
      "outputs": [
        {
          "output_type": "stream",
          "name": "stdout",
          "text": [
            "Epoch 1/30\n",
            "324/324 [==============================] - 2s 4ms/step - loss: 4180.5347 - accuracy: 0.6518 - val_loss: 2948.1738 - val_accuracy: 0.6993\n",
            "Epoch 2/30\n",
            "324/324 [==============================] - 1s 3ms/step - loss: 591.3989 - accuracy: 0.8733 - val_loss: 110.5861 - val_accuracy: 0.9483\n",
            "Epoch 3/30\n",
            "324/324 [==============================] - 1s 3ms/step - loss: 55.6372 - accuracy: 0.9468 - val_loss: 120.7619 - val_accuracy: 0.9319\n",
            "Epoch 4/30\n",
            "324/324 [==============================] - 1s 3ms/step - loss: 34.2259 - accuracy: 0.9599 - val_loss: 15.5362 - val_accuracy: 0.9659\n",
            "Epoch 5/30\n",
            "324/324 [==============================] - 1s 3ms/step - loss: 24.3285 - accuracy: 0.9666 - val_loss: 14.5333 - val_accuracy: 0.9749\n",
            "Epoch 6/30\n",
            "324/324 [==============================] - 1s 3ms/step - loss: 20.8015 - accuracy: 0.9718 - val_loss: 17.9839 - val_accuracy: 0.9763\n",
            "Epoch 7/30\n",
            "324/324 [==============================] - 1s 3ms/step - loss: 23.2623 - accuracy: 0.9675 - val_loss: 10.1234 - val_accuracy: 0.9840\n",
            "Epoch 8/30\n",
            "324/324 [==============================] - 1s 3ms/step - loss: 22.8386 - accuracy: 0.9697 - val_loss: 9.6753 - val_accuracy: 0.9851\n",
            "Epoch 9/30\n",
            "324/324 [==============================] - 1s 3ms/step - loss: 15.7764 - accuracy: 0.9761 - val_loss: 17.4557 - val_accuracy: 0.9832\n",
            "Epoch 10/30\n",
            "324/324 [==============================] - 1s 3ms/step - loss: 18.0613 - accuracy: 0.9727 - val_loss: 12.1287 - val_accuracy: 0.9824\n",
            "Epoch 11/30\n",
            "324/324 [==============================] - 1s 3ms/step - loss: 14.9032 - accuracy: 0.9766 - val_loss: 19.8780 - val_accuracy: 0.9776\n",
            "Epoch 12/30\n",
            "324/324 [==============================] - 1s 2ms/step - loss: 16.3184 - accuracy: 0.9745 - val_loss: 8.2753 - val_accuracy: 0.9884\n",
            "Epoch 13/30\n",
            "324/324 [==============================] - 1s 3ms/step - loss: 18.6942 - accuracy: 0.9720 - val_loss: 10.6327 - val_accuracy: 0.9896\n",
            "Epoch 14/30\n",
            "324/324 [==============================] - 1s 3ms/step - loss: 12.4288 - accuracy: 0.9769 - val_loss: 6.0893 - val_accuracy: 0.9796\n",
            "Epoch 15/30\n",
            "324/324 [==============================] - 1s 4ms/step - loss: 16.3128 - accuracy: 0.9746 - val_loss: 22.5027 - val_accuracy: 0.9772\n",
            "Epoch 16/30\n",
            "324/324 [==============================] - 1s 3ms/step - loss: 15.4058 - accuracy: 0.9757 - val_loss: 7.5050 - val_accuracy: 0.9848\n",
            "Epoch 17/30\n",
            "324/324 [==============================] - 1s 3ms/step - loss: 12.6171 - accuracy: 0.9773 - val_loss: 8.4347 - val_accuracy: 0.9855\n",
            "Epoch 18/30\n",
            "324/324 [==============================] - 1s 4ms/step - loss: 22.2785 - accuracy: 0.9731 - val_loss: 7.3920 - val_accuracy: 0.9850\n",
            "Epoch 19/30\n",
            "324/324 [==============================] - 1s 3ms/step - loss: 10.1740 - accuracy: 0.9789 - val_loss: 7.2605 - val_accuracy: 0.9815\n",
            "Epoch 20/30\n",
            "324/324 [==============================] - 1s 3ms/step - loss: 16.5330 - accuracy: 0.9761 - val_loss: 14.2480 - val_accuracy: 0.9757\n",
            "Epoch 21/30\n",
            "324/324 [==============================] - 1s 3ms/step - loss: 12.0542 - accuracy: 0.9779 - val_loss: 11.3501 - val_accuracy: 0.9840\n",
            "Epoch 22/30\n",
            "324/324 [==============================] - 1s 3ms/step - loss: 15.9525 - accuracy: 0.9747 - val_loss: 9.9021 - val_accuracy: 0.9778\n",
            "Epoch 23/30\n",
            "324/324 [==============================] - 1s 4ms/step - loss: 9.9238 - accuracy: 0.9813 - val_loss: 3.8470 - val_accuracy: 0.9888\n",
            "Epoch 24/30\n",
            "324/324 [==============================] - 1s 3ms/step - loss: 17.5186 - accuracy: 0.9753 - val_loss: 10.9381 - val_accuracy: 0.9770\n",
            "Epoch 25/30\n",
            "324/324 [==============================] - 1s 3ms/step - loss: 14.1870 - accuracy: 0.9763 - val_loss: 7.5069 - val_accuracy: 0.9848\n",
            "Epoch 26/30\n",
            "324/324 [==============================] - 1s 3ms/step - loss: 12.7420 - accuracy: 0.9785 - val_loss: 9.2555 - val_accuracy: 0.9828\n",
            "Epoch 27/30\n",
            "324/324 [==============================] - 1s 3ms/step - loss: 13.9491 - accuracy: 0.9778 - val_loss: 17.3938 - val_accuracy: 0.9778\n",
            "Epoch 28/30\n",
            "324/324 [==============================] - 1s 3ms/step - loss: 13.2689 - accuracy: 0.9785 - val_loss: 5.1838 - val_accuracy: 0.9828\n",
            "Epoch 29/30\n",
            "324/324 [==============================] - 1s 3ms/step - loss: 11.0071 - accuracy: 0.9799 - val_loss: 11.2954 - val_accuracy: 0.9788\n",
            "Epoch 30/30\n",
            "324/324 [==============================] - 1s 3ms/step - loss: 14.9439 - accuracy: 0.9764 - val_loss: 14.4654 - val_accuracy: 0.9826\n"
          ]
        }
      ]
    },
    {
      "cell_type": "code",
      "source": [
        "pd.DataFrame(history.history).plot(figsize=(8,5))\n",
        "plt.grid(True)\n",
        "plt.gca().set_ylim(0,1)\n",
        "plt.show()"
      ],
      "metadata": {
        "colab": {
          "base_uri": "https://localhost:8080/",
          "height": 324
        },
        "id": "_jt2s39gHj3J",
        "outputId": "c0b3d39d-586c-4b89-b6d8-a223206c0d7d"
      },
      "execution_count": 18,
      "outputs": [
        {
          "output_type": "display_data",
          "data": {
            "text/plain": [
              "<Figure size 576x360 with 1 Axes>"
            ],
            "image/png": "[encoded data removed]"
          },
          "metadata": {
            "needs_background": "light"
          }
        }
      ]
    },
    {
      "cell_type": "code",
      "source": [
        "plt.plot(history.history['accuracy'])\n",
        "plt.plot(history.history['val_accuracy'])\n",
        "plt.title('model accuracy')\n",
        "plt.ylabel('accuracy')\n",
        "plt.xlabel('epoch')\n",
        "plt.legend(['train', 'validation'])\n",
        "plt.show()"
      ],
      "metadata": {
        "colab": {
          "base_uri": "https://localhost:8080/",
          "height": 295
        },
        "id": "FvpDKw-FHtnO",
        "outputId": "0b57459b-12e1-4857-8caf-88f6f5751fa7"
      },
      "execution_count": 19,
      "outputs": [
        {
          "output_type": "display_data",
          "data": {
            "text/plain": [
              "<Figure size 432x288 with 1 Axes>"
            ],
            "image/png": "[encoded data removed]"
          },
          "metadata": {
            "needs_background": "light"
          }
        }
      ]
    },
    {
      "cell_type": "code",
      "source": [
        "Px_test_train = 60\n",
        "Py_test_train = 30\n",
        "print(Px_test_train,Py_test_train)\n",
        "ktra = model.predict([[Px_test_train,Py_test_train]])\n",
        "t1 = ktra[0][0]\n",
        "t2 = ktra[0][1]\n",
        "X1=l1*math.cos(math.radians(t1))+l2*math.cos(math.radians(t1+t2))\n",
        "Y1=l1*math.sin(math.radians(t1))+l2*math.sin(math.radians(t1+t2))\n",
        "print('x = ',X1,'\\ny = ',Y1)\n",
        "print('Góc Theta 1 = ', t1,'\\nGóc Theta 2 = ', t2)"
      ],
      "metadata": {
        "colab": {
          "base_uri": "https://localhost:8080/"
        },
        "id": "TILLnFj6H2u8",
        "outputId": "8faa4aaa-eead-4340-d52e-6872cf60bb62"
      },
      "execution_count": 24,
      "outputs": [
        {
          "output_type": "stream",
          "name": "stdout",
          "text": [
            "60 30\n",
            "x =  55.97071879529013 \n",
            "y =  34.20029550054007\n",
            "Góc Theta 1 =  -6.093878 \n",
            "Góc Theta 2 =  87.09986\n"
          ]
        }
      ]
    }
  ]
}