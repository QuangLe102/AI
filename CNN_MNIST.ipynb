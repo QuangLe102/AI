{
  "nbformat": 4,
  "nbformat_minor": 0,
  "metadata": {
    "colab": {
      "name": "CNN_MNIST.ipynb",
      "provenance": [],
      "toc_visible": true,
      "authorship_tag": "ABX9TyN5Hvs4DZsM2yzu4mFt6uS1",
      "include_colab_link": true
    },
    "kernelspec": {
      "name": "python3",
      "display_name": "Python 3"
    },
    "language_info": {
      "name": "python"
    }
  },
  "cells": [
    {
      "cell_type": "markdown",
      "metadata": {
        "id": "view-in-github",
        "colab_type": "text"
      },
      "source": [
        "<a href=\"https://colab.research.google.com/github/QuangLe102/AI/blob/main/CNN_MNIST.ipynb\" target=\"_parent\"><img src=\"https://colab.research.google.com/assets/colab-badge.svg\" alt=\"Open In Colab\"/></a>"
      ]
    },
    {
      "cell_type": "markdown",
      "source": [
        "# Import thư viện"
      ],
      "metadata": {
        "id": "xTeyn1INPmJa"
      }
    },
    {
      "cell_type": "code",
      "source": [
        "import cv2\n",
        "import sklearn\n",
        "import numpy as np\n",
        "import pandas as pd\n",
        "import tensorflow as tf\n",
        "from tensorflow import keras\n",
        "import matplotlib.pyplot as plt\n",
        "from keras.utils import np_utils\n",
        "from keras.datasets import mnist\n",
        "from keras.models import Sequential\n",
        "from sklearn.preprocessing import scale\n",
        "from sklearn.preprocessing import StandardScaler\n",
        "from tensorflow.keras import datasets, layers, models\n",
        "from tensorflow.keras.optimizers import Adam, RMSprop\n",
        "from keras.layers import Dense, Activation, Dropout,Flatten, Conv2D,MaxPooling2D\n",
        "from tensorflow.keras.utils import to_categorical \n",
        "from tensorflow.keras.optimizers import Adam, RMSprop,SGD"
      ],
      "metadata": {
        "id": "__Kikd-8Pqyv"
      },
      "execution_count": 29,
      "outputs": []
    },
    {
      "cell_type": "markdown",
      "source": [
        "# Load và xử lý data"
      ],
      "metadata": {
        "id": "HQ9SGmbgQHtc"
      }
    },
    {
      "cell_type": "code",
      "source": [
        "(x_train, y_train), (x_test, y_test) = mnist.load_data()"
      ],
      "metadata": {
        "id": "7F0xIhgxUyIA"
      },
      "execution_count": 30,
      "outputs": []
    },
    {
      "cell_type": "code",
      "source": [
        "x_pre = x_test\n",
        "x_train = x_train.reshape(60000, 28,28,1)\n",
        "x_test = x_test.reshape(10000, 28,28,1)\n",
        "x_train = x_train.astype('float32')\n",
        "x_test = x_test.astype('float32')\n",
        "x_train /= 255\n",
        "x_test /= 255\n",
        "y_train = np_utils.to_categorical(y_train,10)\n",
        "y_test = np_utils.to_categorical(y_test,10)"
      ],
      "metadata": {
        "id": "4vpCWK7fRNC2"
      },
      "execution_count": 31,
      "outputs": []
    },
    {
      "cell_type": "markdown",
      "source": [
        "# Tạo model"
      ],
      "metadata": {
        "id": "8ZzBYDnoRqDc"
      }
    },
    {
      "cell_type": "code",
      "source": [
        "model = Sequential()\n",
        "model.add(Conv2D(32,(3,3),activation = 'relu', kernel_initializer='he_uniform',padding='same',input_shape=(28,28,1 )))\n",
        "model.add(MaxPooling2D(2,2))\n",
        "model.add(Conv2D(64,(3,3),activation = 'relu', kernel_initializer='he_uniform',padding='same'))\n",
        "model.add(MaxPooling2D(2,2))\n",
        "model.add(Conv2D(128,(3,3),activation = 'relu', kernel_initializer='he_uniform',padding='same'))\n",
        "model.add(MaxPooling2D(2,2))\n",
        "model.add(Flatten())\n",
        "\n",
        "#ANN\n",
        "model.add(Dense(64,activation='relu',kernel_initializer='he_uniform'))\n",
        "model.add(Dense(128,activation='relu',kernel_initializer='he_uniform'))\n",
        "model.add(Dense(10,activation='softmax'))\n",
        "model.summary()"
      ],
      "metadata": {
        "colab": {
          "base_uri": "https://localhost:8080/"
        },
        "id": "s9qb10bORv7Z",
        "outputId": "9762027a-52d6-4aba-cded-cf162cb3908b"
      },
      "execution_count": 32,
      "outputs": [
        {
          "output_type": "stream",
          "name": "stdout",
          "text": [
            "Model: \"sequential_8\"\n",
            "_________________________________________________________________\n",
            " Layer (type)                Output Shape              Param #   \n",
            "=================================================================\n",
            " conv2d_20 (Conv2D)          (None, 28, 28, 32)        320       \n",
            "                                                                 \n",
            " max_pooling2d_18 (MaxPoolin  (None, 14, 14, 32)       0         \n",
            " g2D)                                                            \n",
            "                                                                 \n",
            " conv2d_21 (Conv2D)          (None, 14, 14, 64)        18496     \n",
            "                                                                 \n",
            " max_pooling2d_19 (MaxPoolin  (None, 7, 7, 64)         0         \n",
            " g2D)                                                            \n",
            "                                                                 \n",
            " conv2d_22 (Conv2D)          (None, 7, 7, 128)         73856     \n",
            "                                                                 \n",
            " max_pooling2d_20 (MaxPoolin  (None, 3, 3, 128)        0         \n",
            " g2D)                                                            \n",
            "                                                                 \n",
            " flatten_6 (Flatten)         (None, 1152)              0         \n",
            "                                                                 \n",
            " dense_18 (Dense)            (None, 64)                73792     \n",
            "                                                                 \n",
            " dense_19 (Dense)            (None, 128)               8320      \n",
            "                                                                 \n",
            " dense_20 (Dense)            (None, 10)                1290      \n",
            "                                                                 \n",
            "=================================================================\n",
            "Total params: 176,074\n",
            "Trainable params: 176,074\n",
            "Non-trainable params: 0\n",
            "_________________________________________________________________\n"
          ]
        }
      ]
    },
    {
      "cell_type": "markdown",
      "source": [
        "# Compile và train"
      ],
      "metadata": {
        "id": "DA_TTE6QR-je"
      }
    },
    {
      "cell_type": "code",
      "source": [
        "opt= SGD(lr=0.01,momentum = 0.9)\n",
        "model.compile(optimizer=opt, loss='categorical_crossentropy', metrics=['accuracy'])\n",
        "history = model.fit(x_train, y_train, epochs=10, batch_size=128, validation_data=(x_test, y_test))"
      ],
      "metadata": {
        "colab": {
          "base_uri": "https://localhost:8080/"
        },
        "id": "XD3Moe6zSCzs",
        "outputId": "b4325bc8-cb41-42b7-f3d8-6021e8d184ea"
      },
      "execution_count": 33,
      "outputs": [
        {
          "output_type": "stream",
          "name": "stdout",
          "text": [
            "Epoch 1/10\n"
          ]
        },
        {
          "output_type": "stream",
          "name": "stderr",
          "text": [
            "/usr/local/lib/python3.7/dist-packages/keras/optimizer_v2/gradient_descent.py:102: UserWarning: The `lr` argument is deprecated, use `learning_rate` instead.\n",
            "  super(SGD, self).__init__(name, **kwargs)\n"
          ]
        },
        {
          "output_type": "stream",
          "name": "stdout",
          "text": [
            "469/469 [==============================] - 190s 403ms/step - loss: 0.2180 - accuracy: 0.9307 - val_loss: 0.0642 - val_accuracy: 0.9801\n",
            "Epoch 2/10\n",
            "469/469 [==============================] - 107s 228ms/step - loss: 0.0563 - accuracy: 0.9824 - val_loss: 0.0439 - val_accuracy: 0.9859\n",
            "Epoch 3/10\n",
            "469/469 [==============================] - 103s 219ms/step - loss: 0.0381 - accuracy: 0.9879 - val_loss: 0.0306 - val_accuracy: 0.9891\n",
            "Epoch 4/10\n",
            "469/469 [==============================] - 106s 225ms/step - loss: 0.0304 - accuracy: 0.9902 - val_loss: 0.0425 - val_accuracy: 0.9865\n",
            "Epoch 5/10\n",
            "469/469 [==============================] - 108s 231ms/step - loss: 0.0239 - accuracy: 0.9923 - val_loss: 0.0308 - val_accuracy: 0.9898\n",
            "Epoch 6/10\n",
            "469/469 [==============================] - 114s 243ms/step - loss: 0.0173 - accuracy: 0.9944 - val_loss: 0.0288 - val_accuracy: 0.9904\n",
            "Epoch 7/10\n",
            "469/469 [==============================] - 102s 217ms/step - loss: 0.0151 - accuracy: 0.9954 - val_loss: 0.0562 - val_accuracy: 0.9821\n",
            "Epoch 8/10\n",
            "469/469 [==============================] - 107s 228ms/step - loss: 0.0116 - accuracy: 0.9964 - val_loss: 0.0278 - val_accuracy: 0.9906\n",
            "Epoch 9/10\n",
            "469/469 [==============================] - 99s 212ms/step - loss: 0.0087 - accuracy: 0.9975 - val_loss: 0.0274 - val_accuracy: 0.9910\n",
            "Epoch 10/10\n",
            "469/469 [==============================] - 98s 209ms/step - loss: 0.0073 - accuracy: 0.9979 - val_loss: 0.0268 - val_accuracy: 0.9918\n"
          ]
        }
      ]
    },
    {
      "cell_type": "code",
      "source": [
        "score = model.evaluate(x_test, y_test)\n",
        "print('Test score:', score[0])\n",
        "print('Test accuracy:', score[1])"
      ],
      "metadata": {
        "colab": {
          "base_uri": "https://localhost:8080/"
        },
        "id": "gPaPAcPsVq30",
        "outputId": "76882e7d-9e7d-4187-be25-e58a3dd479f1"
      },
      "execution_count": 34,
      "outputs": [
        {
          "output_type": "stream",
          "name": "stdout",
          "text": [
            "313/313 [==============================] - 5s 17ms/step - loss: 0.0268 - accuracy: 0.9918\n",
            "Test score: 0.026792049407958984\n",
            "Test accuracy: 0.9918000102043152\n"
          ]
        }
      ]
    },
    {
      "cell_type": "markdown",
      "source": [
        "# Vẽ đồ thị"
      ],
      "metadata": {
        "id": "bVGmKnCAVBf9"
      }
    },
    {
      "cell_type": "code",
      "source": [
        "pd.DataFrame(history.history).plot(figsize=(8,5))\n",
        "plt.grid(True)\n",
        "plt.gca().set_ylim(0,1)\n",
        "plt.show()"
      ],
      "metadata": {
        "colab": {
          "base_uri": "https://localhost:8080/",
          "height": 324
        },
        "id": "SdldAd3LU9Xg",
        "outputId": "1b65d408-5e3c-42f2-bd74-9f7900310755"
      },
      "execution_count": 35,
      "outputs": [
        {
          "output_type": "display_data",
          "data": {
            "text/plain": [
              "<Figure size 576x360 with 1 Axes>"
            ],
            "image/png": "[encoded data removed]"
          },
          "metadata": {
            "needs_background": "light"
          }
        }
      ]
    },
    {
      "cell_type": "code",
      "source": [
        "pd.DataFrame(history.history).plot(figsize=(8,5))\n",
        "plt.grid(True)\n",
        "plt.gca().set_ylim(0,1)\n",
        "plt.show()"
      ],
      "metadata": {
        "colab": {
          "base_uri": "https://localhost:8080/",
          "height": 324
        },
        "id": "BXy3mKuaVuZo",
        "outputId": "e8fc8645-b527-494c-dfcb-72ae959cbbfb"
      },
      "execution_count": 36,
      "outputs": [
        {
          "output_type": "display_data",
          "data": {
            "text/plain": [
              "<Figure size 576x360 with 1 Axes>"
            ],
            "image/png": "[encoded data removed]"
          },
          "metadata": {
            "needs_background": "light"
          }
        }
      ]
    },
    {
      "cell_type": "markdown",
      "source": [
        "# Kiểm tra"
      ],
      "metadata": {
        "id": "JoxF3t_RVFnL"
      }
    },
    {
      "cell_type": "code",
      "source": [
        "Label = ['0', '1', '2', '3', '4', '5', '6', '7', '8', '9']\n",
        "test = 1\n",
        "plt.title(\" Dự đoán đối tượng là: \" + Label[np.argmax(model.predict(x_pre[test].reshape(-1,28,28,1)))])\n",
        "plt.imshow(x_pre[test], cmap=plt.get_cmap('gray'))"
      ],
      "metadata": {
        "colab": {
          "base_uri": "https://localhost:8080/",
          "height": 300
        },
        "id": "bvQTDv_pVwXW",
        "outputId": "dab87cd6-2eaf-4c91-e6be-335d6c4e46ea"
      },
      "execution_count": 38,
      "outputs": [
        {
          "output_type": "execute_result",
          "data": {
            "text/plain": [
              "<matplotlib.image.AxesImage at 0x7fdd98d3e610>"
            ]
          },
          "metadata": {},
          "execution_count": 38
        },
        {
          "output_type": "display_data",
          "data": {
            "text/plain": [
              "<Figure size 432x288 with 1 Axes>"
            ],
            "image/png": "[encoded data removed]"
          },
          "metadata": {
            "needs_background": "light"
          }
        }
      ]
    },
    {
      "cell_type": "code",
      "source": [
        "test = 10\n",
        "plt.title(\" Dự đoán đối tượng là: \" + Label[np.argmax(model.predict(x_pre[test].reshape(-1,28,28,1)))])\n",
        "plt.imshow(x_pre[test], cmap=plt.get_cmap('gray'))"
      ],
      "metadata": {
        "id": "uf2OggNFbICo",
        "outputId": "8219aadc-8a96-401a-9336-bf356924d02d",
        "colab": {
          "base_uri": "https://localhost:8080/",
          "height": 300
        }
      },
      "execution_count": 39,
      "outputs": [
        {
          "output_type": "execute_result",
          "data": {
            "text/plain": [
              "<matplotlib.image.AxesImage at 0x7fdd949384d0>"
            ]
          },
          "metadata": {},
          "execution_count": 39
        },
        {
          "output_type": "display_data",
          "data": {
            "text/plain": [
              "<Figure size 432x288 with 1 Axes>"
            ],
            "image/png": "[encoded data removed]"
          },
          "metadata": {
            "needs_background": "light"
          }
        }
      ]
    }
  ]
}